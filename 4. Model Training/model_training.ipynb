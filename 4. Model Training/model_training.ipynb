{
 "cells": [
  {
   "cell_type": "markdown",
   "id": "84b8778d",
   "metadata": {},
   "source": [
    "# Model Training for Insurance Fraud Detection\n",
    "\n",
    "This notebook focuses on developing predictive models to detect fraudulent insurance claims. It begins by loading the preprocessed and feature engineered dataset, followed by splitting the data into training and testing subsets to enable unbiased evaluation.\n",
    "\n",
    "We then train multiple classification models including Logistic Regression as a baseline and Random Forest as a more powerful, nonlinear model and evaluate their performance with metrics suited for imbalanced classification problems, such as precision, recall, F1-score, ROC AUC, and Precision Recall AUC.\n",
    "\n",
    "The notebook concludes with model comparison, visualization of key results, feature importance analysis for interpretability, and saving the best performing model pipeline for deployment and integration into reporting tools."
   ]
  },
  {
   "cell_type": "markdown",
   "id": "506bb026",
   "metadata": {},
   "source": [
    "### Notebook Setup & Imports\n",
    "\n",
    "This initial step sets up the environment by importing all necessary libraries and tools required for data manipulation, visualization, machine learning model training, evaluation, and saving. I also configured the environment to suppress warnings for cleaner output and establish consistent plot styling. This foundational setup ensures reproducibility and standardizes the coding environment before I begin any data operations or modeling."
   ]
  },
  {
   "cell_type": "code",
   "execution_count": 1,
   "id": "3a25ea5a",
   "metadata": {},
   "outputs": [
    {
     "name": "stdout",
     "output_type": "stream",
     "text": [
      "Libraries loaded.\n"
     ]
    }
   ],
   "source": [
    "import os\n",
    "import pandas as pd\n",
    "import numpy as np\n",
    "import matplotlib.pyplot as plt\n",
    "import seaborn as sns\n",
    "import sklearn\n",
    "import datetime\n",
    "import joblib\n",
    "import warnings\n",
    "\n",
    "from sklearn.model_selection import train_test_split, RandomizedSearchCV\n",
    "from sklearn.preprocessing import StandardScaler\n",
    "from sklearn.pipeline import Pipeline\n",
    "from sklearn.linear_model import LogisticRegression\n",
    "from sklearn.ensemble import RandomForestClassifier\n",
    "from sklearn.metrics import (\n",
    "    classification_report, confusion_matrix, f1_score, \n",
    "    roc_auc_score, average_precision_score, precision_recall_curve, \n",
    "    roc_curve, precision_score, recall_score\n",
    ")\n",
    "\n",
    "# Ignore warnings for clean notebook output\n",
    "warnings.filterwarnings('ignore')\n",
    "\n",
    "# Set plot style for consistency\n",
    "sns.set(style=\"whitegrid\")\n",
    "\n",
    "print(\"Libraries loaded.\")"
   ]
  },
  {
   "cell_type": "markdown",
   "id": "0cd3b81b",
   "metadata": {},
   "source": [
    "### 1. Load Engineered Features\n",
    "\n",
    "We load the fully preprocessed and feature engineered dataset prepared in earlier ETL and feature engineering steps. This dataset includes cleaned data with all necessary transformations and encoded variables, making it ready for model training. Confirming the data shape and previewing initial records help verify successful loading and give a quick snapshot of the dataset structure.\n",
    "\n",
    "Purpose:\n",
    "- Load the cleaned and feature engineered dataset\n",
    "- Confirm dataset shape and preview first rows"
   ]
  },
  {
   "cell_type": "code",
   "execution_count": 2,
   "id": "e07677bd",
   "metadata": {},
   "outputs": [
    {
     "name": "stdout",
     "output_type": "stream",
     "text": [
      "Feature dataset loaded. Shape: (1000, 57)\n"
     ]
    },
    {
     "data": {
      "application/vnd.microsoft.datawrangler.viewer.v0+json": {
       "columns": [
        {
         "name": "index",
         "rawType": "int64",
         "type": "integer"
        },
        {
         "name": "months_as_customer",
         "rawType": "int64",
         "type": "integer"
        },
        {
         "name": "age",
         "rawType": "int64",
         "type": "integer"
        },
        {
         "name": "policy_number",
         "rawType": "int64",
         "type": "integer"
        },
        {
         "name": "policy_bind_date",
         "rawType": "object",
         "type": "string"
        },
        {
         "name": "policy_state",
         "rawType": "object",
         "type": "string"
        },
        {
         "name": "policy_csl",
         "rawType": "object",
         "type": "string"
        },
        {
         "name": "policy_deductable",
         "rawType": "int64",
         "type": "integer"
        },
        {
         "name": "policy_annual_premium",
         "rawType": "float64",
         "type": "float"
        },
        {
         "name": "umbrella_limit",
         "rawType": "int64",
         "type": "integer"
        },
        {
         "name": "insured_zip",
         "rawType": "int64",
         "type": "integer"
        },
        {
         "name": "insured_sex",
         "rawType": "object",
         "type": "string"
        },
        {
         "name": "insured_education_level",
         "rawType": "object",
         "type": "string"
        },
        {
         "name": "insured_occupation",
         "rawType": "object",
         "type": "string"
        },
        {
         "name": "insured_hobbies",
         "rawType": "object",
         "type": "string"
        },
        {
         "name": "insured_relationship",
         "rawType": "object",
         "type": "string"
        },
        {
         "name": "capital_gains",
         "rawType": "int64",
         "type": "integer"
        },
        {
         "name": "capital_loss",
         "rawType": "int64",
         "type": "integer"
        },
        {
         "name": "incident_severity",
         "rawType": "object",
         "type": "string"
        },
        {
         "name": "authorities_contacted",
         "rawType": "object",
         "type": "string"
        },
        {
         "name": "incident_state",
         "rawType": "object",
         "type": "string"
        },
        {
         "name": "incident_city",
         "rawType": "object",
         "type": "string"
        },
        {
         "name": "incident_location",
         "rawType": "object",
         "type": "string"
        },
        {
         "name": "incident_hour_of_the_day",
         "rawType": "int64",
         "type": "integer"
        },
        {
         "name": "number_of_vehicles_involved",
         "rawType": "int64",
         "type": "integer"
        },
        {
         "name": "property_damage",
         "rawType": "object",
         "type": "unknown"
        },
        {
         "name": "bodily_injuries",
         "rawType": "int64",
         "type": "integer"
        },
        {
         "name": "witnesses",
         "rawType": "int64",
         "type": "integer"
        },
        {
         "name": "total_claim_amount",
         "rawType": "int64",
         "type": "integer"
        },
        {
         "name": "injury_claim",
         "rawType": "int64",
         "type": "integer"
        },
        {
         "name": "property_claim",
         "rawType": "int64",
         "type": "integer"
        },
        {
         "name": "vehicle_claim",
         "rawType": "int64",
         "type": "integer"
        },
        {
         "name": "auto_make",
         "rawType": "object",
         "type": "string"
        },
        {
         "name": "auto_model",
         "rawType": "object",
         "type": "string"
        },
        {
         "name": "auto_year",
         "rawType": "int64",
         "type": "integer"
        },
        {
         "name": "fraud_reported",
         "rawType": "int64",
         "type": "integer"
        },
        {
         "name": "collision_type_missing_flag",
         "rawType": "int64",
         "type": "integer"
        },
        {
         "name": "police_report_available_missing_flag",
         "rawType": "int64",
         "type": "integer"
        },
        {
         "name": "property_damage_missing_flag",
         "rawType": "int64",
         "type": "integer"
        },
        {
         "name": "authorities_contacted_missing_flag",
         "rawType": "int64",
         "type": "integer"
        },
        {
         "name": "policy_csl_min",
         "rawType": "int64",
         "type": "integer"
        },
        {
         "name": "policy_csl_max",
         "rawType": "int64",
         "type": "integer"
        },
        {
         "name": "risk_score",
         "rawType": "int64",
         "type": "integer"
        },
        {
         "name": "incident_year",
         "rawType": "int64",
         "type": "integer"
        },
        {
         "name": "incident_month",
         "rawType": "int64",
         "type": "integer"
        },
        {
         "name": "incident_dayofweek",
         "rawType": "int64",
         "type": "integer"
        },
        {
         "name": "incident_day",
         "rawType": "int64",
         "type": "integer"
        },
        {
         "name": "incident_is_weekend",
         "rawType": "int64",
         "type": "integer"
        },
        {
         "name": "fraud_weight",
         "rawType": "int64",
         "type": "integer"
        },
        {
         "name": "incident_type_multi_vehicle_collision",
         "rawType": "bool",
         "type": "boolean"
        },
        {
         "name": "incident_type_parked_car",
         "rawType": "bool",
         "type": "boolean"
        },
        {
         "name": "incident_type_single_vehicle_collision",
         "rawType": "bool",
         "type": "boolean"
        },
        {
         "name": "incident_type_vehicle_theft",
         "rawType": "bool",
         "type": "boolean"
        },
        {
         "name": "collision_type_front_collision",
         "rawType": "bool",
         "type": "boolean"
        },
        {
         "name": "collision_type_rear_collision",
         "rawType": "bool",
         "type": "boolean"
        },
        {
         "name": "collision_type_side_collision",
         "rawType": "bool",
         "type": "boolean"
        },
        {
         "name": "police_report_available_no",
         "rawType": "bool",
         "type": "boolean"
        },
        {
         "name": "police_report_available_yes",
         "rawType": "bool",
         "type": "boolean"
        }
       ],
       "ref": "e17859e2-e5ea-4d91-b0be-7ae9f2617b3d",
       "rows": [
        [
         "0",
         "328",
         "48",
         "521585",
         "2014-10-17",
         "OH",
         "250/500",
         "1000",
         "1406.91",
         "0",
         "466132",
         "MALE",
         "MD",
         "CRAFT-REPAIR",
         "SLEEPING",
         "HUSBAND",
         "53300",
         "0",
         "MAJOR DAMAGE",
         "POLICE",
         "SC",
         "COLUMBUS",
         "9935 4TH DRIVE",
         "5",
         "1",
         "YES",
         "1",
         "2",
         "71610",
         "6510",
         "13020",
         "52080",
         "SAAB",
         "92X",
         "2004",
         "1",
         "0",
         "0",
         "0",
         "0",
         "250",
         "500",
         "2",
         "2015",
         "1",
         "6",
         "25",
         "1",
         "143220",
         "False",
         "False",
         "True",
         "False",
         "False",
         "False",
         "True",
         "False",
         "True"
        ],
        [
         "1",
         "228",
         "42",
         "342868",
         "2006-06-27",
         "IN",
         "250/500",
         "2000",
         "1197.22",
         "5000000",
         "468176",
         "MALE",
         "MD",
         "MACHINE-OP-INSPCT",
         "READING",
         "OTHER-RELATIVE",
         "0",
         "0",
         "MINOR DAMAGE",
         "POLICE",
         "VA",
         "RIVERWOOD",
         "6608 MLK HWY",
         "8",
         "1",
         null,
         "0",
         "0",
         "5070",
         "780",
         "780",
         "3510",
         "MERCEDES",
         "E400",
         "2007",
         "1",
         "0",
         "0",
         "0",
         "0",
         "250",
         "500",
         "0",
         "2015",
         "1",
         "2",
         "21",
         "0",
         "0",
         "False",
         "False",
         "False",
         "True",
         "False",
         "False",
         "False",
         "False",
         "False"
        ],
        [
         "2",
         "134",
         "29",
         "687698",
         "2000-09-06",
         "OH",
         "100/300",
         "2000",
         "1413.14",
         "5000000",
         "430632",
         "FEMALE",
         "PHD",
         "SALES",
         "BOARD-GAMES",
         "OWN-CHILD",
         "35100",
         "0",
         "MINOR DAMAGE",
         "POLICE",
         "NY",
         "COLUMBUS",
         "7121 FRANCIS LANE",
         "7",
         "3",
         "NO",
         "2",
         "3",
         "34650",
         "7700",
         "3850",
         "23100",
         "DODGE",
         "RAM",
         "2007",
         "0",
         "0",
         "0",
         "0",
         "0",
         "100",
         "300",
         "2",
         "2015",
         "2",
         "6",
         "22",
         "1",
         "69300",
         "True",
         "False",
         "False",
         "False",
         "False",
         "True",
         "False",
         "True",
         "False"
        ],
        [
         "3",
         "256",
         "41",
         "227811",
         "1990-05-25",
         "IL",
         "250/500",
         "2000",
         "1415.74",
         "6000000",
         "608117",
         "FEMALE",
         "PHD",
         "ARMED-FORCES",
         "BOARD-GAMES",
         "UNMARRIED",
         "48900",
         "-62400",
         "MAJOR DAMAGE",
         "POLICE",
         "OH",
         "ARLINGTON",
         "6956 MAPLE DRIVE",
         "5",
         "1",
         null,
         "1",
         "2",
         "63400",
         "6340",
         "6340",
         "50720",
         "CHEVROLET",
         "TAHOE",
         "2014",
         "1",
         "0",
         "0",
         "0",
         "0",
         "250",
         "500",
         "3",
         "2015",
         "1",
         "5",
         "10",
         "1",
         "190200",
         "False",
         "False",
         "True",
         "False",
         "True",
         "False",
         "False",
         "True",
         "False"
        ],
        [
         "4",
         "228",
         "44",
         "367455",
         "2014-06-06",
         "IL",
         "500/1000",
         "1000",
         "1583.91",
         "6000000",
         "610706",
         "MALE",
         "ASSOCIATE",
         "SALES",
         "BOARD-GAMES",
         "UNMARRIED",
         "66000",
         "-46000",
         "MINOR DAMAGE",
         "NAN",
         "NY",
         "ARLINGTON",
         "3041 3RD AVE",
         "20",
         "1",
         "NO",
         "0",
         "1",
         "6500",
         "1300",
         "650",
         "4550",
         "ACCURA",
         "RSX",
         "2009",
         "0",
         "0",
         "0",
         "0",
         "0",
         "500",
         "1000",
         "1",
         "2015",
         "2",
         "1",
         "17",
         "0",
         "6500",
         "False",
         "False",
         "False",
         "True",
         "False",
         "False",
         "False",
         "True",
         "False"
        ]
       ],
       "shape": {
        "columns": 57,
        "rows": 5
       }
      },
      "text/html": [
       "<div>\n",
       "<style scoped>\n",
       "    .dataframe tbody tr th:only-of-type {\n",
       "        vertical-align: middle;\n",
       "    }\n",
       "\n",
       "    .dataframe tbody tr th {\n",
       "        vertical-align: top;\n",
       "    }\n",
       "\n",
       "    .dataframe thead th {\n",
       "        text-align: right;\n",
       "    }\n",
       "</style>\n",
       "<table border=\"1\" class=\"dataframe\">\n",
       "  <thead>\n",
       "    <tr style=\"text-align: right;\">\n",
       "      <th></th>\n",
       "      <th>months_as_customer</th>\n",
       "      <th>age</th>\n",
       "      <th>policy_number</th>\n",
       "      <th>policy_bind_date</th>\n",
       "      <th>policy_state</th>\n",
       "      <th>policy_csl</th>\n",
       "      <th>policy_deductable</th>\n",
       "      <th>policy_annual_premium</th>\n",
       "      <th>umbrella_limit</th>\n",
       "      <th>insured_zip</th>\n",
       "      <th>...</th>\n",
       "      <th>fraud_weight</th>\n",
       "      <th>incident_type_multi_vehicle_collision</th>\n",
       "      <th>incident_type_parked_car</th>\n",
       "      <th>incident_type_single_vehicle_collision</th>\n",
       "      <th>incident_type_vehicle_theft</th>\n",
       "      <th>collision_type_front_collision</th>\n",
       "      <th>collision_type_rear_collision</th>\n",
       "      <th>collision_type_side_collision</th>\n",
       "      <th>police_report_available_no</th>\n",
       "      <th>police_report_available_yes</th>\n",
       "    </tr>\n",
       "  </thead>\n",
       "  <tbody>\n",
       "    <tr>\n",
       "      <th>0</th>\n",
       "      <td>328</td>\n",
       "      <td>48</td>\n",
       "      <td>521585</td>\n",
       "      <td>2014-10-17</td>\n",
       "      <td>OH</td>\n",
       "      <td>250/500</td>\n",
       "      <td>1000</td>\n",
       "      <td>1406.91</td>\n",
       "      <td>0</td>\n",
       "      <td>466132</td>\n",
       "      <td>...</td>\n",
       "      <td>143220</td>\n",
       "      <td>False</td>\n",
       "      <td>False</td>\n",
       "      <td>True</td>\n",
       "      <td>False</td>\n",
       "      <td>False</td>\n",
       "      <td>False</td>\n",
       "      <td>True</td>\n",
       "      <td>False</td>\n",
       "      <td>True</td>\n",
       "    </tr>\n",
       "    <tr>\n",
       "      <th>1</th>\n",
       "      <td>228</td>\n",
       "      <td>42</td>\n",
       "      <td>342868</td>\n",
       "      <td>2006-06-27</td>\n",
       "      <td>IN</td>\n",
       "      <td>250/500</td>\n",
       "      <td>2000</td>\n",
       "      <td>1197.22</td>\n",
       "      <td>5000000</td>\n",
       "      <td>468176</td>\n",
       "      <td>...</td>\n",
       "      <td>0</td>\n",
       "      <td>False</td>\n",
       "      <td>False</td>\n",
       "      <td>False</td>\n",
       "      <td>True</td>\n",
       "      <td>False</td>\n",
       "      <td>False</td>\n",
       "      <td>False</td>\n",
       "      <td>False</td>\n",
       "      <td>False</td>\n",
       "    </tr>\n",
       "    <tr>\n",
       "      <th>2</th>\n",
       "      <td>134</td>\n",
       "      <td>29</td>\n",
       "      <td>687698</td>\n",
       "      <td>2000-09-06</td>\n",
       "      <td>OH</td>\n",
       "      <td>100/300</td>\n",
       "      <td>2000</td>\n",
       "      <td>1413.14</td>\n",
       "      <td>5000000</td>\n",
       "      <td>430632</td>\n",
       "      <td>...</td>\n",
       "      <td>69300</td>\n",
       "      <td>True</td>\n",
       "      <td>False</td>\n",
       "      <td>False</td>\n",
       "      <td>False</td>\n",
       "      <td>False</td>\n",
       "      <td>True</td>\n",
       "      <td>False</td>\n",
       "      <td>True</td>\n",
       "      <td>False</td>\n",
       "    </tr>\n",
       "    <tr>\n",
       "      <th>3</th>\n",
       "      <td>256</td>\n",
       "      <td>41</td>\n",
       "      <td>227811</td>\n",
       "      <td>1990-05-25</td>\n",
       "      <td>IL</td>\n",
       "      <td>250/500</td>\n",
       "      <td>2000</td>\n",
       "      <td>1415.74</td>\n",
       "      <td>6000000</td>\n",
       "      <td>608117</td>\n",
       "      <td>...</td>\n",
       "      <td>190200</td>\n",
       "      <td>False</td>\n",
       "      <td>False</td>\n",
       "      <td>True</td>\n",
       "      <td>False</td>\n",
       "      <td>True</td>\n",
       "      <td>False</td>\n",
       "      <td>False</td>\n",
       "      <td>True</td>\n",
       "      <td>False</td>\n",
       "    </tr>\n",
       "    <tr>\n",
       "      <th>4</th>\n",
       "      <td>228</td>\n",
       "      <td>44</td>\n",
       "      <td>367455</td>\n",
       "      <td>2014-06-06</td>\n",
       "      <td>IL</td>\n",
       "      <td>500/1000</td>\n",
       "      <td>1000</td>\n",
       "      <td>1583.91</td>\n",
       "      <td>6000000</td>\n",
       "      <td>610706</td>\n",
       "      <td>...</td>\n",
       "      <td>6500</td>\n",
       "      <td>False</td>\n",
       "      <td>False</td>\n",
       "      <td>False</td>\n",
       "      <td>True</td>\n",
       "      <td>False</td>\n",
       "      <td>False</td>\n",
       "      <td>False</td>\n",
       "      <td>True</td>\n",
       "      <td>False</td>\n",
       "    </tr>\n",
       "  </tbody>\n",
       "</table>\n",
       "<p>5 rows × 57 columns</p>\n",
       "</div>"
      ],
      "text/plain": [
       "   months_as_customer  age  policy_number policy_bind_date policy_state  \\\n",
       "0                 328   48         521585       2014-10-17           OH   \n",
       "1                 228   42         342868       2006-06-27           IN   \n",
       "2                 134   29         687698       2000-09-06           OH   \n",
       "3                 256   41         227811       1990-05-25           IL   \n",
       "4                 228   44         367455       2014-06-06           IL   \n",
       "\n",
       "  policy_csl  policy_deductable  policy_annual_premium  umbrella_limit  \\\n",
       "0    250/500               1000                1406.91               0   \n",
       "1    250/500               2000                1197.22         5000000   \n",
       "2    100/300               2000                1413.14         5000000   \n",
       "3    250/500               2000                1415.74         6000000   \n",
       "4   500/1000               1000                1583.91         6000000   \n",
       "\n",
       "   insured_zip  ... fraud_weight incident_type_multi_vehicle_collision  \\\n",
       "0       466132  ...       143220                                 False   \n",
       "1       468176  ...            0                                 False   \n",
       "2       430632  ...        69300                                  True   \n",
       "3       608117  ...       190200                                 False   \n",
       "4       610706  ...         6500                                 False   \n",
       "\n",
       "  incident_type_parked_car incident_type_single_vehicle_collision  \\\n",
       "0                    False                                   True   \n",
       "1                    False                                  False   \n",
       "2                    False                                  False   \n",
       "3                    False                                   True   \n",
       "4                    False                                  False   \n",
       "\n",
       "  incident_type_vehicle_theft  collision_type_front_collision  \\\n",
       "0                       False                           False   \n",
       "1                        True                           False   \n",
       "2                       False                           False   \n",
       "3                       False                            True   \n",
       "4                        True                           False   \n",
       "\n",
       "   collision_type_rear_collision collision_type_side_collision  \\\n",
       "0                          False                          True   \n",
       "1                          False                         False   \n",
       "2                           True                         False   \n",
       "3                          False                         False   \n",
       "4                          False                         False   \n",
       "\n",
       "  police_report_available_no police_report_available_yes  \n",
       "0                      False                        True  \n",
       "1                      False                       False  \n",
       "2                       True                       False  \n",
       "3                       True                       False  \n",
       "4                       True                       False  \n",
       "\n",
       "[5 rows x 57 columns]"
      ]
     },
     "execution_count": 2,
     "metadata": {},
     "output_type": "execute_result"
    }
   ],
   "source": [
    "# Define project directory and dataset file path\n",
    "project_dir = r\"C:\\\\Users\\\\Cloud\\\\OneDrive\\\\Desktop\\\\Fraud_Analytics_Project\"\n",
    "feature_file = os.path.join(project_dir, \"data\", \"features\", \"engineered_insurance_claims.csv\")\n",
    "\n",
    "# Load dataset into a DataFrame\n",
    "df = pd.read_csv(feature_file)\n",
    "print(\"Feature dataset loaded. Shape:\", df.shape)\n",
    "\n",
    "# Preview first five rows to verify data loaded correctly\n",
    "df.head()"
   ]
  },
  {
   "cell_type": "markdown",
   "id": "3eed49cc",
   "metadata": {},
   "source": [
    "### 2 Inspect and Clean Feature Data Types\n",
    "\n",
    "Before training any machine learning models, it's essential to ensure that the input features are numeric or boolean. Non-numeric columns, such as strings (`object` dtype), cannot be scaled or passed into most scikit-learn models without encoding.\n",
    "\n",
    "In this step:\n",
    "- I will inspect all current columns and their data types\n",
    "- Identify and remove any leftover object-type columns from my feature_engineering notebook (e.g., `incident_date`, `policy_state`, `insured_occupation`)\n",
    "- This guarantees that only numeric or boolean features are used for training and scaling\n",
    "\n",
    "> Note: Important categorical features should have already been one-hot encoded in the feature engineering stage. This cleanup ensures the dataset is fully model-ready."
   ]
  },
  {
   "cell_type": "code",
   "execution_count": 3,
   "id": "5901e9de",
   "metadata": {},
   "outputs": [
    {
     "name": "stdout",
     "output_type": "stream",
     "text": [
      "Initial Columns in Dataset:\n",
      "['months_as_customer', 'age', 'policy_number', 'policy_bind_date', 'policy_state', 'policy_csl', 'policy_deductable', 'policy_annual_premium', 'umbrella_limit', 'insured_zip', 'insured_sex', 'insured_education_level', 'insured_occupation', 'insured_hobbies', 'insured_relationship', 'capital_gains', 'capital_loss', 'incident_severity', 'authorities_contacted', 'incident_state', 'incident_city', 'incident_location', 'incident_hour_of_the_day', 'number_of_vehicles_involved', 'property_damage', 'bodily_injuries', 'witnesses', 'total_claim_amount', 'injury_claim', 'property_claim', 'vehicle_claim', 'auto_make', 'auto_model', 'auto_year', 'fraud_reported', 'collision_type_missing_flag', 'police_report_available_missing_flag', 'property_damage_missing_flag', 'authorities_contacted_missing_flag', 'policy_csl_min', 'policy_csl_max', 'risk_score', 'incident_year', 'incident_month', 'incident_dayofweek', 'incident_day', 'incident_is_weekend', 'fraud_weight', 'incident_type_multi_vehicle_collision', 'incident_type_parked_car', 'incident_type_single_vehicle_collision', 'incident_type_vehicle_theft', 'collision_type_front_collision', 'collision_type_rear_collision', 'collision_type_side_collision', 'police_report_available_no', 'police_report_available_yes']\n",
      "\n",
      "Initial Data Types:\n",
      "months_as_customer                          int64\n",
      "age                                         int64\n",
      "policy_number                               int64\n",
      "policy_bind_date                           object\n",
      "policy_state                               object\n",
      "policy_csl                                 object\n",
      "policy_deductable                           int64\n",
      "policy_annual_premium                     float64\n",
      "umbrella_limit                              int64\n",
      "insured_zip                                 int64\n",
      "insured_sex                                object\n",
      "insured_education_level                    object\n",
      "insured_occupation                         object\n",
      "insured_hobbies                            object\n",
      "insured_relationship                       object\n",
      "capital_gains                               int64\n",
      "capital_loss                                int64\n",
      "incident_severity                          object\n",
      "authorities_contacted                      object\n",
      "incident_state                             object\n",
      "incident_city                              object\n",
      "incident_location                          object\n",
      "incident_hour_of_the_day                    int64\n",
      "number_of_vehicles_involved                 int64\n",
      "property_damage                            object\n",
      "bodily_injuries                             int64\n",
      "witnesses                                   int64\n",
      "total_claim_amount                          int64\n",
      "injury_claim                                int64\n",
      "property_claim                              int64\n",
      "vehicle_claim                               int64\n",
      "auto_make                                  object\n",
      "auto_model                                 object\n",
      "auto_year                                   int64\n",
      "fraud_reported                              int64\n",
      "collision_type_missing_flag                 int64\n",
      "police_report_available_missing_flag        int64\n",
      "property_damage_missing_flag                int64\n",
      "authorities_contacted_missing_flag          int64\n",
      "policy_csl_min                              int64\n",
      "policy_csl_max                              int64\n",
      "risk_score                                  int64\n",
      "incident_year                               int64\n",
      "incident_month                              int64\n",
      "incident_dayofweek                          int64\n",
      "incident_day                                int64\n",
      "incident_is_weekend                         int64\n",
      "fraud_weight                                int64\n",
      "incident_type_multi_vehicle_collision        bool\n",
      "incident_type_parked_car                     bool\n",
      "incident_type_single_vehicle_collision       bool\n",
      "incident_type_vehicle_theft                  bool\n",
      "collision_type_front_collision               bool\n",
      "collision_type_rear_collision                bool\n",
      "collision_type_side_collision                bool\n",
      "police_report_available_no                   bool\n",
      "police_report_available_yes                  bool\n",
      "dtype: object\n",
      "\n",
      "Initial Data Type Counts:\n",
      "int64      31\n",
      "object     16\n",
      "bool        9\n",
      "float64     1\n",
      "Name: count, dtype: int64\n"
     ]
    }
   ],
   "source": [
    "# Inspect current column names in the feature dataset\n",
    "print(\"Initial Columns in Dataset:\")\n",
    "print(df.columns.tolist())\n",
    "\n",
    "# Display data types of each column\n",
    "print(\"\\nInitial Data Types:\")\n",
    "print(df.dtypes)\n",
    "\n",
    "# Count of each data type\n",
    "print(\"\\nInitial Data Type Counts:\")\n",
    "print(df.dtypes.value_counts())"
   ]
  },
  {
   "cell_type": "markdown",
   "id": "4a4a98e2",
   "metadata": {},
   "source": [
    "### 3. Finalize Data Types for Modeling\n",
    "\n",
    "To prepare the dataset for model training, we remove any leftover string type columns (not suitable for scikit-learn models) and convert all boolean features into integer format. This make sure that all remaining columns are strictly numeric.\n",
    "\n",
    "This step ensures compatibility with model training and prevents runtime errors during scaling or fitting."
   ]
  },
  {
   "cell_type": "code",
   "execution_count": 4,
   "id": "cbd1650f",
   "metadata": {},
   "outputs": [
    {
     "name": "stdout",
     "output_type": "stream",
     "text": [
      "Final cleaned data types:\n",
      "int64      31\n",
      "int32       9\n",
      "float64     1\n",
      "Name: count, dtype: int64\n"
     ]
    }
   ],
   "source": [
    "# Drop all object-type columns (e.g., strings)\n",
    "df = df.drop(columns=df.select_dtypes(include='object').columns, errors='ignore')\n",
    "\n",
    "# Convert boolean columns to integers\n",
    "bool_cols = df.select_dtypes(include='bool').columns\n",
    "df[bool_cols] = df[bool_cols].astype(int)\n",
    "\n",
    "# Confirm clean-up\n",
    "print(\"Final cleaned data types:\")\n",
    "print(df.dtypes.value_counts())"
   ]
  },
  {
   "cell_type": "markdown",
   "id": "4dfc18e8",
   "metadata": {},
   "source": [
    "### 4. Define Features and Target\n",
    "\n",
    "In this step, I separate the dataset into explanatory variables (`X`) and the target variable (`y`), which indicates whether a claim was fraudulent.  \n",
    "\n",
    "> **Important:** At this stage, I keep the features raw without scaling to avoid data leakage. Scaling will be applied later within each model pipeline after train-test splitting."
   ]
  },
  {
   "cell_type": "code",
   "execution_count": 5,
   "id": "61a67c57",
   "metadata": {},
   "outputs": [
    {
     "name": "stdout",
     "output_type": "stream",
     "text": [
      "Features and target separated (no scaling yet).\n",
      "Feature set shape: (1000, 40)\n",
      "Target distribution:\n",
      "fraud_reported\n",
      "0    0.753\n",
      "1    0.247\n",
      "Name: proportion, dtype: float64\n"
     ]
    }
   ],
   "source": [
    "# Drop target column to get features (raw)\n",
    "X = df.drop(columns=['fraud_reported'])\n",
    "\n",
    "# Target variable\n",
    "y = df['fraud_reported']\n",
    "\n",
    "# Save feature column names for later use\n",
    "feature_names = X.columns.tolist()\n",
    "\n",
    "print(\"Features and target separated (no scaling yet).\")\n",
    "print(f\"Feature set shape: {X.shape}\")\n",
    "print(f\"Target distribution:\\n{y.value_counts(normalize=True)}\")"
   ]
  },
  {
   "cell_type": "markdown",
   "id": "a326792a",
   "metadata": {},
   "source": [
    "### 5. Train-Test Split\n",
    "\n",
    "To fairly evaluate model generalization, I split the dataset into training and testing subsets without any preprocessing like scaling.\n",
    "I stratify the split by the target variable to preserve the class imbalance proportions in both subsets, which is essential due to the rarity of fraudulent cases."
   ]
  },
  {
   "cell_type": "code",
   "execution_count": 6,
   "id": "011245cd",
   "metadata": {},
   "outputs": [
    {
     "name": "stdout",
     "output_type": "stream",
     "text": [
      "Train-test split complete.\n",
      "Training set shape: (750, 40)\n",
      "Test set shape: (250, 40)\n",
      "Training target distribution:\n",
      "fraud_reported\n",
      "0    0.753333\n",
      "1    0.246667\n",
      "Name: proportion, dtype: float64\n",
      "Test target distribution:\n",
      "fraud_reported\n",
      "0    0.752\n",
      "1    0.248\n",
      "Name: proportion, dtype: float64\n"
     ]
    }
   ],
   "source": [
    "# Perform train-test split (75% train, 25% test), stratified by target\n",
    "X_train, X_test, y_train, y_test = train_test_split(\n",
    "    X, y, test_size=0.25, random_state=42, stratify=y\n",
    ")\n",
    "\n",
    "print(\"Train-test split complete.\")\n",
    "print(f\"Training set shape: {X_train.shape}\")\n",
    "print(f\"Test set shape: {X_test.shape}\")\n",
    "print(f\"Training target distribution:\\n{y_train.value_counts(normalize=True)}\")\n",
    "print(f\"Test target distribution:\\n{y_test.value_counts(normalize=True)}\")"
   ]
  },
  {
   "cell_type": "markdown",
   "id": "5500f865",
   "metadata": {},
   "source": [
    "### 6. Baseline Model: Logistic Regression\n",
    "\n",
    "Here, I build a modeling pipeline that includes feature scaling and Logistic Regression.\n",
    "The scaler standardizes numeric features to improve convergence, and `class_weight='balanced'` addresses class imbalance by weighting classes inversely proportional to their frequencies.\n",
    "This pipeline is fit only on the training data and then evaluated on the test set."
   ]
  },
  {
   "cell_type": "code",
   "execution_count": 7,
   "id": "1ac9f22f",
   "metadata": {},
   "outputs": [
    {
     "name": "stdout",
     "output_type": "stream",
     "text": [
      "Logistic Regression Classification Report:\n",
      "              precision    recall  f1-score   support\n",
      "\n",
      "           0       0.83      0.61      0.70       188\n",
      "           1       0.34      0.61      0.44        62\n",
      "\n",
      "    accuracy                           0.61       250\n",
      "   macro avg       0.58      0.61      0.57       250\n",
      "weighted avg       0.71      0.61      0.63       250\n",
      "\n"
     ]
    }
   ],
   "source": [
    "# Build pipeline: scaling + logistic regression with balanced class weights\n",
    "logreg_pipeline = Pipeline([\n",
    "    ('scaler', StandardScaler()),\n",
    "    ('logreg', LogisticRegression(max_iter=1000, class_weight='balanced', random_state=42))\n",
    "])\n",
    "\n",
    "# Fit pipeline on training data\n",
    "logreg_pipeline.fit(X_train, y_train)\n",
    "\n",
    "# Predict on test set\n",
    "y_pred_lr = logreg_pipeline.predict(X_test)\n",
    "\n",
    "# Show classification report\n",
    "print(\"Logistic Regression Classification Report:\")\n",
    "print(classification_report(y_test, y_pred_lr))"
   ]
  },
  {
   "cell_type": "markdown",
   "id": "7660790b",
   "metadata": {},
   "source": [
    "### 7. Random Forest Classifier\n",
    "\n",
    "I train a Random Forest classifier to capture nonlinear relationships and improve fraud detection.\n",
    "Although tree-based models like Random Forest do not require scaling, I include scaling here for consistency and future flexibility.\n",
    "`class_weight='balanced'` helps mitigate the class imbalance.\n",
    "The pipeline is fit on training data and predictions are evaluated on test data."
   ]
  },
  {
   "cell_type": "code",
   "execution_count": 8,
   "id": "ecc75855",
   "metadata": {},
   "outputs": [
    {
     "name": "stdout",
     "output_type": "stream",
     "text": [
      "Random Forest Classification Report:\n",
      "              precision    recall  f1-score   support\n",
      "\n",
      "           0       0.76      1.00      0.86       188\n",
      "           1       1.00      0.02      0.03        62\n",
      "\n",
      "    accuracy                           0.76       250\n",
      "   macro avg       0.88      0.51      0.45       250\n",
      "weighted avg       0.82      0.76      0.65       250\n",
      "\n"
     ]
    }
   ],
   "source": [
    "# Build pipeline: scaling + random forest classifier with balanced class weights\n",
    "rf_pipeline = Pipeline([\n",
    "    ('scaler', StandardScaler()),  # Optional for tree models, but kept for uniformity\n",
    "    ('rf', RandomForestClassifier(n_estimators=100, class_weight='balanced', random_state=42))\n",
    "])\n",
    "\n",
    "# Fit pipeline on training data\n",
    "rf_pipeline.fit(X_train, y_train)\n",
    "\n",
    "# Predict on test set\n",
    "y_pred_rf = rf_pipeline.predict(X_test)\n",
    "\n",
    "# Show classification report\n",
    "print(\"Random Forest Classification Report:\")\n",
    "print(classification_report(y_test, y_pred_rf))"
   ]
  },
  {
   "cell_type": "markdown",
   "id": "58ad57e8",
   "metadata": {},
   "source": [
    "### 8. Visualize Confusion Matrices\n",
    "\n",
    "Confusion matrices visually depict classification outcomes, showing true positives, false positives, true negatives, and false negatives. This step will help stakeholders understand types of errors each model makes, crucial in fraud detection where minimizing false negatives (missed frauds) can have significant cost implications.\n",
    "\n",
    "Purpose:\n",
    "- Plot confusion matrices to visually assess classification results, both raw counts and normalized percentages"
   ]
  },
  {
   "cell_type": "code",
   "execution_count": 9,
   "id": "78141964",
   "metadata": {},
   "outputs": [
    {
     "data": {
      "image/png": "[encoded data removed]",
      "text/plain": [
       "<Figure size 640x480 with 1 Axes>"
      ]
     },
     "metadata": {},
     "output_type": "display_data"
    },
    {
     "data": {
      "image/png": "[encoded data removed]",
      "text/plain": [
       "<Figure size 640x480 with 1 Axes>"
      ]
     },
     "metadata": {},
     "output_type": "display_data"
    },
    {
     "data": {
      "image/png": "[encoded data removed]",
      "text/plain": [
       "<Figure size 640x480 with 1 Axes>"
      ]
     },
     "metadata": {},
     "output_type": "display_data"
    },
    {
     "data": {
      "image/png": "[encoded data removed]",
      "text/plain": [
       "<Figure size 640x480 with 1 Axes>"
      ]
     },
     "metadata": {},
     "output_type": "display_data"
    }
   ],
   "source": [
    "def plot_conf_matrix(y_true, y_pred, title, normalize=False):\n",
    "    \"\"\"\n",
    "    Plot confusion matrix with annotations.\n",
    "    \n",
    "    Parameters:\n",
    "    y_true: array-like, ground truth labels\n",
    "    y_pred: array-like, predicted labels\n",
    "    title: str, plot title\n",
    "    normalize: bool, whether to normalize counts to percentages per actual class\n",
    "    \n",
    "    This function plots a heatmap of the confusion matrix with numeric annotations.\n",
    "    If normalize=True, it shows proportions, which aid interpretation for imbalanced classes.\n",
    "    \"\"\"\n",
    "    # Compute confusion matrix values\n",
    "    cm = confusion_matrix(y_true, y_pred)\n",
    "    \n",
    "    if normalize:\n",
    "        # Normalize by row sums (actual class totals) to show percentage of predictions per class\n",
    "        cm = cm.astype('float') / cm.sum(axis=1)[:, np.newaxis]\n",
    "        fmt = '.2f'  # Format numbers as floats with two decimals\n",
    "        cmap = 'Blues'\n",
    "    else:\n",
    "        fmt = 'd'    # Format numbers as integers (raw counts)\n",
    "        cmap = 'Blues'\n",
    "    \n",
    "    # Plot heatmap with annotations and no colorbar for clarity\n",
    "    sns.heatmap(cm, annot=True, fmt=fmt, cmap=cmap, cbar=False)\n",
    "    plt.title(title + (\" (Normalized)\" if normalize else \"\"))\n",
    "    plt.xlabel(\"Predicted Label\")\n",
    "    plt.ylabel(\"Actual Label\")\n",
    "    plt.show()\n",
    "\n",
    "# Plot raw and normalized confusion matrices for Logistic Regression\n",
    "plot_conf_matrix(y_test, y_pred_lr, \"Logistic Regression Confusion Matrix\", normalize=False)\n",
    "plot_conf_matrix(y_test, y_pred_lr, \"Logistic Regression Confusion Matrix\", normalize=True)\n",
    "\n",
    "# Plot raw and normalized confusion matrices for Random Forest\n",
    "plot_conf_matrix(y_test, y_pred_rf, \"Random Forest Confusion Matrix\", normalize=False)\n",
    "plot_conf_matrix(y_test, y_pred_rf, \"Random Forest Confusion Matrix\", normalize=True)"
   ]
  },
  {
   "cell_type": "markdown",
   "id": "4d88bf36",
   "metadata": {},
   "source": [
    "### 9. Performance Comparison\n",
    "\n",
    "I quantitatively compare the models using the F1-score, a harmonic mean of precision and recall, which is a balanced measure especially valuable in imbalanced datasets like fraud detection. This informs which model better balances identifying fraud cases and limiting false alarms.\n",
    "\n",
    "Purpose:\n",
    "- Compare F1 scores of Logistic Regression and Random Forest models\n",
    "- Use F1 due to class imbalance in fraud detection"
   ]
  },
  {
   "cell_type": "code",
   "execution_count": 10,
   "id": "9ba9c2d2",
   "metadata": {},
   "outputs": [
    {
     "name": "stdout",
     "output_type": "stream",
     "text": [
      "Logistic Regression:\n",
      "  Precision: 0.3393\n",
      "  Recall   : 0.6129\n",
      "  F1 Score : 0.4368\n",
      "\n",
      "Random Forest:\n",
      "  Precision: 1.0000\n",
      "  Recall   : 0.0161\n",
      "  F1 Score : 0.0317\n"
     ]
    }
   ],
   "source": [
    "# Calculate Precision, Recall, and F1 for Logistic Regression\n",
    "precision_lr = precision_score(y_test, y_pred_lr)\n",
    "recall_lr = recall_score(y_test, y_pred_lr)\n",
    "f1_lr = f1_score(y_test, y_pred_lr)\n",
    "\n",
    "# Calculate Precision, Recall, and F1 for Random Forest\n",
    "precision_rf = precision_score(y_test, y_pred_rf)\n",
    "recall_rf = recall_score(y_test, y_pred_rf)\n",
    "f1_rf = f1_score(y_test, y_pred_rf)\n",
    "\n",
    "# Print performance metrics for Logistic Regression\n",
    "print(\"Logistic Regression:\")\n",
    "print(f\"  Precision: {precision_lr:.4f}\")  \n",
    "print(f\"  Recall   : {recall_lr:.4f}\")     \n",
    "print(f\"  F1 Score : {f1_lr:.4f}\")         \n",
    "\n",
    "# Print performance metrics for Random Forest\n",
    "print(\"\\nRandom Forest:\")\n",
    "print(f\"  Precision: {precision_rf:.4f}\")  \n",
    "print(f\"  Recall   : {recall_rf:.4f}\")     \n",
    "print(f\"  F1 Score : {f1_rf:.4f}\")         "
   ]
  },
  {
   "cell_type": "markdown",
   "id": "398aa08b",
   "metadata": {},
   "source": [
    "### 10. Evaluate Probabilistic Metrics\n",
    "\n",
    "Beyond binary predictions, I assess model performance using probabilistic metrics: ROC AUC (Receiver Operating Characteristic Area Under Curve) and Precision Recall AUC. These metrics provide a nuanced view of model discrimination capability and effectiveness at various classification thresholds, critical in real world fraud risk prioritization.\n",
    "\n",
    "Purpose:\n",
    "- Compute ROC AUC and Precision Recall AUC for Random Forest\n",
    "- Useful metrics under class imbalanc"
   ]
  },
  {
   "cell_type": "code",
   "execution_count": 11,
   "id": "7d90c013",
   "metadata": {},
   "outputs": [
    {
     "name": "stdout",
     "output_type": "stream",
     "text": [
      "ROC AUC: 0.5615133836650652\n",
      "PR AUC : 0.29378846229525435\n"
     ]
    }
   ],
   "source": [
    "# Predict fraud probabilities for positive class\n",
    "y_prob_rf = rf_pipeline.predict_proba(X_test)[:, 1]\n",
    "\n",
    "# Calculate ROC AUC (area under ROC curve)\n",
    "print(\"ROC AUC:\", roc_auc_score(y_test, y_prob_rf))\n",
    "\n",
    "# Calculate Precision-Recall AUC\n",
    "print(\"PR AUC :\", average_precision_score(y_test, y_prob_rf))"
   ]
  },
  {
   "cell_type": "markdown",
   "id": "b8a36dbe",
   "metadata": {},
   "source": [
    "### 11. ROC and Precision Recall Curves\n",
    "\n",
    "Visualizing ROC and Precision Recall curves enables stakeholders to see how the model’s performance varies with different decision thresholds. These plots help choose thresholds that balance catching frauds and avoiding false positives, aligning model behavior with business risk appetite.\n",
    "\n",
    "Purpose:\n",
    "- Plot ROC and Precision Recall curves to visualize model threshold effects"
   ]
  },
  {
   "cell_type": "code",
   "execution_count": 12,
   "id": "3ce6373b",
   "metadata": {},
   "outputs": [
    {
     "data": {
      "image/png": "[encoded data removed]",
      "text/plain": [
       "<Figure size 1200x500 with 2 Axes>"
      ]
     },
     "metadata": {},
     "output_type": "display_data"
    }
   ],
   "source": [
    "# Compute ROC curve\n",
    "fpr, tpr, _ = roc_curve(y_test, y_prob_rf)\n",
    "\n",
    "# Compute Precision-Recall curve\n",
    "prec, recall, _ = precision_recall_curve(y_test, y_prob_rf)\n",
    "\n",
    "plt.figure(figsize=(12, 5))\n",
    "\n",
    "# ROC curve subplot\n",
    "plt.subplot(1, 2, 1)\n",
    "plt.plot(fpr, tpr, label=\"ROC Curve\")\n",
    "plt.plot([0, 1], [0, 1], linestyle=\"--\", color=\"gray\")\n",
    "plt.title(\"ROC Curve\")\n",
    "plt.xlabel(\"False Positive Rate\")\n",
    "plt.ylabel(\"True Positive Rate\")\n",
    "\n",
    "# Precision-Recall curve subplot\n",
    "plt.subplot(1, 2, 2)\n",
    "plt.plot(recall, prec, label=\"PR Curve\")\n",
    "plt.title(\"Precision-Recall Curve\")\n",
    "plt.xlabel(\"Recall\")\n",
    "plt.ylabel(\"Precision\")\n",
    "\n",
    "plt.tight_layout()\n",
    "plt.show()"
   ]
  },
  {
   "cell_type": "markdown",
   "id": "4eaee470",
   "metadata": {},
   "source": [
    "### 12. Feature Importances (Random Forest)\n",
    "\n",
    "Here, I extract and visualize the most influential features driving the Random Forest model’s decisions. Understanding which variables contribute most to detecting fraud aids in model explainability and builds stakeholder trust. It can also guide future data collection and feature engineering efforts.\n",
    "\n",
    "Purpose:\n",
    "- Identify the most important features used by the Random Forest model\n",
    "- Helps with interpretability and insights"
   ]
  },
  {
   "cell_type": "code",
   "execution_count": 13,
   "id": "36d0ce5b",
   "metadata": {},
   "outputs": [
    {
     "data": {
      "image/png": "[encoded data removed]",
      "text/plain": [
       "<Figure size 1000x600 with 1 Axes>"
      ]
     },
     "metadata": {},
     "output_type": "display_data"
    }
   ],
   "source": [
    "# Extract feature importances\n",
    "importances = rf_pipeline.named_steps['rf'].feature_importances_\n",
    "\n",
    "# Sort and take top 20 features\n",
    "feat_imp = pd.Series(importances, index=feature_names).sort_values(ascending=False).head(20)\n",
    "\n",
    "# Plot feature importances as horizontal bar chart\n",
    "plt.figure(figsize=(10, 6))\n",
    "sns.barplot(x=feat_imp.values, y=feat_imp.index)\n",
    "plt.title(\"Top 20 Feature Importances\")\n",
    "plt.xlabel(\"Importance\")\n",
    "plt.ylabel(\"Feature\")\n",
    "plt.show()"
   ]
  },
  {
   "cell_type": "markdown",
   "id": "4e23c422",
   "metadata": {},
   "source": [
    "### 13. Save Best Model as Pipeline\n",
    "\n",
    "For consistent deployment and future scoring, I save the entire processing and modeling pipeline (scaling + Random Forest) as a single object. This ensures that new data undergoes the same preprocessing steps before prediction, reducing errors and streamlining integration into production or dashboards.\n",
    "\n",
    "Purpose:\n",
    "- Save entire pipeline with scaler and Random Forest\n",
    "- Ensures consistent preprocessing in deployment or dashboard"
   ]
  },
  {
   "cell_type": "code",
   "execution_count": 14,
   "id": "5eb8f1c8",
   "metadata": {},
   "outputs": [
    {
     "name": "stdout",
     "output_type": "stream",
     "text": [
      "Best model saved to: C:\\\\Users\\\\Cloud\\\\OneDrive\\\\Desktop\\\\Fraud_Analytics_Project\\models\\fraud_model_pipeline_rf.joblib\n"
     ]
    }
   ],
   "source": [
    "# Create pipeline that applies scaling and Random Forest in sequence\n",
    "pipeline = Pipeline([\n",
    "    ('scaler', StandardScaler()),\n",
    "    ('rf', RandomForestClassifier(n_estimators=100, random_state=42))\n",
    "])\n",
    "\n",
    "# Fit pipeline on training data\n",
    "pipeline.fit(X_train, y_train)\n",
    "\n",
    "# Create model directory if not exists\n",
    "model_dir = os.path.join(project_dir, \"models\")\n",
    "os.makedirs(model_dir, exist_ok=True)\n",
    "\n",
    "# Save pipeline to disk\n",
    "model_path = os.path.join(model_dir, \"fraud_model_pipeline_rf.joblib\")\n",
    "joblib.dump(pipeline, model_path)\n",
    "\n",
    "print(f\"Best model saved to: {model_path}\")"
   ]
  },
  {
   "cell_type": "markdown",
   "id": "39dd1f16",
   "metadata": {},
   "source": [
    "### 14. Metadata Logging\n",
    "\n",
    "I log library versions and run timestamps for reproducibility and audit purposes. This practice helps track the software environment under which the model was trained, supporting future debugging, retraining, and regulatory compliance.\n",
    "\n",
    "Purpose:\n",
    "- Log package versions and run date for reproducibility and reporting"
   ]
  },
  {
   "cell_type": "code",
   "execution_count": 15,
   "id": "2b173466",
   "metadata": {},
   "outputs": [
    {
     "name": "stdout",
     "output_type": "stream",
     "text": [
      "Versions and Metadata\n",
      "sklearn version: 1.4.2\n",
      "pandas version: 2.1.4\n",
      "Run date       : 2025-07-14 20:56:35\n"
     ]
    }
   ],
   "source": [
    "# Print header for metadata section\n",
    "print(\"Versions and Metadata\")\n",
    "\n",
    "# Print the version of scikit-learn used in this session\n",
    "print(\"sklearn version:\", sklearn.__version__)\n",
    "\n",
    "# Print the version of pandas used\n",
    "print(\"pandas version:\", pd.__version__)\n",
    "\n",
    "# Print the current date and time to log when the notebook was executed\n",
    "print(\"Run date       :\", datetime.datetime.now().strftime(\"%Y-%m-%d %H:%M:%S\"))"
   ]
  },
  {
   "cell_type": "markdown",
   "id": "dd61aaff",
   "metadata": {},
   "source": [
    "### 15. Next Steps\n",
    "\n",
    "This outlines the immediate actions following model training: integrating the saved model into the reporting dashboard, generating fraud risk predictions on new claims, and preparing for deployment. These steps close the analytics loop and deliver actionable insights to stakeholders.\n",
    "\n",
    "- Load this model pipeline in `reporting_dashboard.ipynb`\n",
    "- Generate fraud prediction outputs\n",
    "- Deploy model for live or batch scoring"
   ]
  },
  {
   "cell_type": "code",
   "execution_count": 16,
   "id": "864339cd",
   "metadata": {},
   "outputs": [
    {
     "name": "stdout",
     "output_type": "stream",
     "text": [
      "Next Steps:\n",
      "- Use `fraud_model_pipeline_rf.joblib` in dashboard notebook\n",
      "- Visualize predictions and high-risk fraud cases\n"
     ]
    }
   ],
   "source": [
    "# Print header to indicate the final action items after model training\n",
    "print(\"Next Steps:\")\n",
    "\n",
    "# Suggest loading the saved pipeline for use in the dashboard/reporting notebook\n",
    "print(\"- Use `fraud_model_pipeline_rf.joblib` in dashboard notebook\")\n",
    "\n",
    "# Recommend visualizing predictions to identify and prioritize potentially fraudulent claims\n",
    "print(\"- Visualize predictions and high-risk fraud cases\")"
   ]
  },
  {
   "cell_type": "markdown",
   "id": "66b7abf2",
   "metadata": {},
   "source": [
    "# Conclusion and Next Steps\n",
    "\n",
    "This notebook successfully developed and evaluated machine learning models for insurance fraud detection. The Random Forest classifier outperformed the baseline Logistic Regression model, providing higher predictive accuracy and robustness on this imbalanced dataset.\n",
    "\n",
    "By saving the full modeling pipeline, including preprocessing, I ensure reproducible and consistent predictions during deployment.\n",
    "\n",
    "Next steps include integrating this model into the reporting dashboard to generate real time fraud risk scores, enabling business stakeholders to prioritize investigations and reduce fraud related losses. Further enhancements could involve hyperparameter tuning, incorporating additional data sources, or exploring alternative algorithms to continually improve fraud detection effectiveness."
   ]
  }
 ],
 "metadata": {
  "kernelspec": {
   "display_name": "dev",
   "language": "python",
   "name": "python3"
  },
  "language_info": {
   "codemirror_mode": {
    "name": "ipython",
    "version": 3
   },
   "file_extension": ".py",
   "mimetype": "text/x-python",
   "name": "python",
   "nbconvert_exporter": "python",
   "pygments_lexer": "ipython3",
   "version": "3.10.14"
  }
 },
 "nbformat": 4,
 "nbformat_minor": 5
}
