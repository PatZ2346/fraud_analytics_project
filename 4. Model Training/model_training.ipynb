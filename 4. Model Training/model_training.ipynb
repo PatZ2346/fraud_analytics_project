{
 "cells": [
  {
   "cell_type": "markdown",
   "id": "84b8778d",
   "metadata": {},
   "source": [
    "# Model Training for Insurance Fraud Detection\n",
    "\n",
    "This notebook focuses on developing predictive models to detect fraudulent insurance claims. It begins by loading the preprocessed and feature engineered dataset, followed by splitting the data into training and testing subsets to enable unbiased evaluation.\n",
    "\n",
    "We then train multiple classification models including Logistic Regression as a baseline and Random Forest as a more powerful, nonlinear model and evaluate their performance with metrics suited for imbalanced classification problems, such as precision, recall, F1-score, ROC AUC, and Precision Recall AUC.\n",
    "\n",
    "The notebook concludes with model comparison, visualization of key results, feature importance analysis for interpretability, and saving the best performing model pipeline for deployment and integration into reporting tools."
   ]
  },
  {
   "cell_type": "markdown",
   "id": "506bb026",
   "metadata": {},
   "source": [
    "### Notebook Setup & Imports\n",
    "\n",
    "This initial step sets up the environment by importing all necessary libraries and tools required for data manipulation, visualization, machine learning model training, evaluation, and saving. I also configured the environment to suppress warnings for cleaner output and establish consistent plot styling. This foundational setup ensures reproducibility and standardizes the coding environment before I begin any data operations or modeling."
   ]
  },
  {
   "cell_type": "code",
   "execution_count": 1,
   "id": "3a25ea5a",
   "metadata": {},
   "outputs": [
    {
     "name": "stdout",
     "output_type": "stream",
     "text": [
      "Libraries loaded.\n"
     ]
    }
   ],
   "source": [
    "import os\n",
    "import pandas as pd\n",
    "import numpy as np\n",
    "import matplotlib.pyplot as plt\n",
    "import seaborn as sns\n",
    "\n",
    "from sklearn.model_selection import train_test_split, RandomizedSearchCV\n",
    "from sklearn.preprocessing import StandardScaler\n",
    "from sklearn.pipeline import Pipeline\n",
    "from sklearn.linear_model import LogisticRegression\n",
    "from sklearn.ensemble import RandomForestClassifier\n",
    "from sklearn.metrics import (\n",
    "    classification_report, confusion_matrix, f1_score, \n",
    "    roc_auc_score, average_precision_score, precision_recall_curve, roc_curve\n",
    ")\n",
    "import joblib\n",
    "import warnings\n",
    "\n",
    "# Ignore warnings for clean notebook output\n",
    "warnings.filterwarnings('ignore')\n",
    "\n",
    "# Set plot style for consistency\n",
    "sns.set(style=\"whitegrid\")\n",
    "\n",
    "print(\"Libraries loaded.\")"
   ]
  },
  {
   "cell_type": "markdown",
   "id": "0cd3b81b",
   "metadata": {},
   "source": [
    "### 1. Load Engineered Features\n",
    "\n",
    "We load the fully preprocessed and feature engineered dataset prepared in earlier ETL and feature engineering steps. This dataset includes cleaned data with all necessary transformations and encoded variables, making it ready for model training. Confirming the data shape and previewing initial records help verify successful loading and give a quick snapshot of the dataset structure.\n",
    "\n",
    "Purpose:\n",
    "- Load the cleaned and feature engineered dataset\n",
    "- Confirm dataset shape and preview first rows"
   ]
  },
  {
   "cell_type": "code",
   "execution_count": 2,
   "id": "e07677bd",
   "metadata": {},
   "outputs": [
    {
     "name": "stdout",
     "output_type": "stream",
     "text": [
      "Feature dataset loaded. Shape: (1000, 55)\n"
     ]
    },
    {
     "data": {
      "application/vnd.microsoft.datawrangler.viewer.v0+json": {
       "columns": [
        {
         "name": "index",
         "rawType": "int64",
         "type": "integer"
        },
        {
         "name": "months_as_customer",
         "rawType": "int64",
         "type": "integer"
        },
        {
         "name": "age",
         "rawType": "int64",
         "type": "integer"
        },
        {
         "name": "policy_number",
         "rawType": "int64",
         "type": "integer"
        },
        {
         "name": "policy_bind_date",
         "rawType": "object",
         "type": "string"
        },
        {
         "name": "policy_state",
         "rawType": "object",
         "type": "string"
        },
        {
         "name": "policy_csl",
         "rawType": "object",
         "type": "string"
        },
        {
         "name": "policy_deductable",
         "rawType": "int64",
         "type": "integer"
        },
        {
         "name": "policy_annual_premium",
         "rawType": "float64",
         "type": "float"
        },
        {
         "name": "umbrella_limit",
         "rawType": "int64",
         "type": "integer"
        },
        {
         "name": "insured_zip",
         "rawType": "int64",
         "type": "integer"
        },
        {
         "name": "insured_sex",
         "rawType": "object",
         "type": "string"
        },
        {
         "name": "insured_education_level",
         "rawType": "object",
         "type": "string"
        },
        {
         "name": "insured_occupation",
         "rawType": "object",
         "type": "string"
        },
        {
         "name": "insured_hobbies",
         "rawType": "object",
         "type": "string"
        },
        {
         "name": "insured_relationship",
         "rawType": "object",
         "type": "string"
        },
        {
         "name": "capital-gains",
         "rawType": "int64",
         "type": "integer"
        },
        {
         "name": "capital-loss",
         "rawType": "int64",
         "type": "integer"
        },
        {
         "name": "incident_date",
         "rawType": "object",
         "type": "string"
        },
        {
         "name": "incident_severity",
         "rawType": "object",
         "type": "string"
        },
        {
         "name": "authorities_contacted",
         "rawType": "object",
         "type": "string"
        },
        {
         "name": "incident_state",
         "rawType": "object",
         "type": "string"
        },
        {
         "name": "incident_city",
         "rawType": "object",
         "type": "string"
        },
        {
         "name": "incident_location",
         "rawType": "object",
         "type": "string"
        },
        {
         "name": "incident_hour_of_the_day",
         "rawType": "int64",
         "type": "integer"
        },
        {
         "name": "number_of_vehicles_involved",
         "rawType": "int64",
         "type": "integer"
        },
        {
         "name": "property_damage",
         "rawType": "object",
         "type": "unknown"
        },
        {
         "name": "bodily_injuries",
         "rawType": "int64",
         "type": "integer"
        },
        {
         "name": "witnesses",
         "rawType": "int64",
         "type": "integer"
        },
        {
         "name": "total_claim_amount",
         "rawType": "int64",
         "type": "integer"
        },
        {
         "name": "injury_claim",
         "rawType": "int64",
         "type": "integer"
        },
        {
         "name": "property_claim",
         "rawType": "int64",
         "type": "integer"
        },
        {
         "name": "vehicle_claim",
         "rawType": "int64",
         "type": "integer"
        },
        {
         "name": "auto_make",
         "rawType": "object",
         "type": "string"
        },
        {
         "name": "auto_model",
         "rawType": "object",
         "type": "string"
        },
        {
         "name": "auto_year",
         "rawType": "int64",
         "type": "integer"
        },
        {
         "name": "fraud_reported",
         "rawType": "int64",
         "type": "integer"
        },
        {
         "name": "collision_type_missing_flag",
         "rawType": "int64",
         "type": "integer"
        },
        {
         "name": "police_report_available_missing_flag",
         "rawType": "int64",
         "type": "integer"
        },
        {
         "name": "property_damage_missing_flag",
         "rawType": "int64",
         "type": "integer"
        },
        {
         "name": "authorities_contacted_missing_flag",
         "rawType": "int64",
         "type": "integer"
        },
        {
         "name": "policy_csl_min",
         "rawType": "int64",
         "type": "integer"
        },
        {
         "name": "policy_csl_max",
         "rawType": "int64",
         "type": "integer"
        },
        {
         "name": "risk_score",
         "rawType": "int64",
         "type": "integer"
        },
        {
         "name": "incident_year",
         "rawType": "int64",
         "type": "integer"
        },
        {
         "name": "incident_month",
         "rawType": "int64",
         "type": "integer"
        },
        {
         "name": "incident_dayofweek",
         "rawType": "int64",
         "type": "integer"
        },
        {
         "name": "incident_day",
         "rawType": "int64",
         "type": "integer"
        },
        {
         "name": "incident_is_weekend",
         "rawType": "int64",
         "type": "integer"
        },
        {
         "name": "fraud_weight",
         "rawType": "int64",
         "type": "integer"
        },
        {
         "name": "incident_type_PARKED CAR",
         "rawType": "bool",
         "type": "boolean"
        },
        {
         "name": "incident_type_SINGLE VEHICLE COLLISION",
         "rawType": "bool",
         "type": "boolean"
        },
        {
         "name": "incident_type_VEHICLE THEFT",
         "rawType": "bool",
         "type": "boolean"
        },
        {
         "name": "collision_type_REAR COLLISION",
         "rawType": "bool",
         "type": "boolean"
        },
        {
         "name": "collision_type_SIDE COLLISION",
         "rawType": "bool",
         "type": "boolean"
        },
        {
         "name": "police_report_available_YES",
         "rawType": "bool",
         "type": "boolean"
        }
       ],
       "ref": "49bbd01e-7b7a-401f-b37c-ffb540bd6dd3",
       "rows": [
        [
         "0",
         "328",
         "48",
         "521585",
         "2014-10-17",
         "OH",
         "250/500",
         "1000",
         "1406.91",
         "0",
         "466132",
         "MALE",
         "MD",
         "CRAFT-REPAIR",
         "SLEEPING",
         "HUSBAND",
         "53300",
         "0",
         "2015-01-25",
         "MAJOR DAMAGE",
         "POLICE",
         "SC",
         "COLUMBUS",
         "9935 4TH DRIVE",
         "5",
         "1",
         "YES",
         "1",
         "2",
         "71610",
         "6510",
         "13020",
         "52080",
         "SAAB",
         "92X",
         "2004",
         "1",
         "0",
         "0",
         "0",
         "0",
         "250",
         "500",
         "2",
         "2015",
         "1",
         "6",
         "25",
         "1",
         "143220",
         "False",
         "True",
         "False",
         "False",
         "True",
         "True"
        ],
        [
         "1",
         "228",
         "42",
         "342868",
         "2006-06-27",
         "IN",
         "250/500",
         "2000",
         "1197.22",
         "5000000",
         "468176",
         "MALE",
         "MD",
         "MACHINE-OP-INSPCT",
         "READING",
         "OTHER-RELATIVE",
         "0",
         "0",
         "2015-01-21",
         "MINOR DAMAGE",
         "POLICE",
         "VA",
         "RIVERWOOD",
         "6608 MLK HWY",
         "8",
         "1",
         null,
         "0",
         "0",
         "5070",
         "780",
         "780",
         "3510",
         "MERCEDES",
         "E400",
         "2007",
         "1",
         "0",
         "0",
         "0",
         "0",
         "250",
         "500",
         "0",
         "2015",
         "1",
         "2",
         "21",
         "0",
         "0",
         "False",
         "False",
         "True",
         "False",
         "False",
         "False"
        ],
        [
         "2",
         "134",
         "29",
         "687698",
         "2000-09-06",
         "OH",
         "100/300",
         "2000",
         "1413.14",
         "5000000",
         "430632",
         "FEMALE",
         "PHD",
         "SALES",
         "BOARD-GAMES",
         "OWN-CHILD",
         "35100",
         "0",
         "2015-02-22",
         "MINOR DAMAGE",
         "POLICE",
         "NY",
         "COLUMBUS",
         "7121 FRANCIS LANE",
         "7",
         "3",
         "NO",
         "2",
         "3",
         "34650",
         "7700",
         "3850",
         "23100",
         "DODGE",
         "RAM",
         "2007",
         "0",
         "0",
         "0",
         "0",
         "0",
         "100",
         "300",
         "2",
         "2015",
         "2",
         "6",
         "22",
         "1",
         "69300",
         "False",
         "False",
         "False",
         "True",
         "False",
         "False"
        ],
        [
         "3",
         "256",
         "41",
         "227811",
         "1990-05-25",
         "IL",
         "250/500",
         "2000",
         "1415.74",
         "6000000",
         "608117",
         "FEMALE",
         "PHD",
         "ARMED-FORCES",
         "BOARD-GAMES",
         "UNMARRIED",
         "48900",
         "-62400",
         "2015-01-10",
         "MAJOR DAMAGE",
         "POLICE",
         "OH",
         "ARLINGTON",
         "6956 MAPLE DRIVE",
         "5",
         "1",
         null,
         "1",
         "2",
         "63400",
         "6340",
         "6340",
         "50720",
         "CHEVROLET",
         "TAHOE",
         "2014",
         "1",
         "0",
         "0",
         "0",
         "0",
         "250",
         "500",
         "3",
         "2015",
         "1",
         "5",
         "10",
         "1",
         "190200",
         "False",
         "True",
         "False",
         "False",
         "False",
         "False"
        ],
        [
         "4",
         "228",
         "44",
         "367455",
         "2014-06-06",
         "IL",
         "500/1000",
         "1000",
         "1583.91",
         "6000000",
         "610706",
         "MALE",
         "ASSOCIATE",
         "SALES",
         "BOARD-GAMES",
         "UNMARRIED",
         "66000",
         "-46000",
         "2015-02-17",
         "MINOR DAMAGE",
         "NAN",
         "NY",
         "ARLINGTON",
         "3041 3RD AVE",
         "20",
         "1",
         "NO",
         "0",
         "1",
         "6500",
         "1300",
         "650",
         "4550",
         "ACCURA",
         "RSX",
         "2009",
         "0",
         "0",
         "0",
         "0",
         "0",
         "500",
         "1000",
         "1",
         "2015",
         "2",
         "1",
         "17",
         "0",
         "6500",
         "False",
         "False",
         "True",
         "False",
         "False",
         "False"
        ]
       ],
       "shape": {
        "columns": 55,
        "rows": 5
       }
      },
      "text/html": [
       "<div>\n",
       "<style scoped>\n",
       "    .dataframe tbody tr th:only-of-type {\n",
       "        vertical-align: middle;\n",
       "    }\n",
       "\n",
       "    .dataframe tbody tr th {\n",
       "        vertical-align: top;\n",
       "    }\n",
       "\n",
       "    .dataframe thead th {\n",
       "        text-align: right;\n",
       "    }\n",
       "</style>\n",
       "<table border=\"1\" class=\"dataframe\">\n",
       "  <thead>\n",
       "    <tr style=\"text-align: right;\">\n",
       "      <th></th>\n",
       "      <th>months_as_customer</th>\n",
       "      <th>age</th>\n",
       "      <th>policy_number</th>\n",
       "      <th>policy_bind_date</th>\n",
       "      <th>policy_state</th>\n",
       "      <th>policy_csl</th>\n",
       "      <th>policy_deductable</th>\n",
       "      <th>policy_annual_premium</th>\n",
       "      <th>umbrella_limit</th>\n",
       "      <th>insured_zip</th>\n",
       "      <th>...</th>\n",
       "      <th>incident_dayofweek</th>\n",
       "      <th>incident_day</th>\n",
       "      <th>incident_is_weekend</th>\n",
       "      <th>fraud_weight</th>\n",
       "      <th>incident_type_PARKED CAR</th>\n",
       "      <th>incident_type_SINGLE VEHICLE COLLISION</th>\n",
       "      <th>incident_type_VEHICLE THEFT</th>\n",
       "      <th>collision_type_REAR COLLISION</th>\n",
       "      <th>collision_type_SIDE COLLISION</th>\n",
       "      <th>police_report_available_YES</th>\n",
       "    </tr>\n",
       "  </thead>\n",
       "  <tbody>\n",
       "    <tr>\n",
       "      <th>0</th>\n",
       "      <td>328</td>\n",
       "      <td>48</td>\n",
       "      <td>521585</td>\n",
       "      <td>2014-10-17</td>\n",
       "      <td>OH</td>\n",
       "      <td>250/500</td>\n",
       "      <td>1000</td>\n",
       "      <td>1406.91</td>\n",
       "      <td>0</td>\n",
       "      <td>466132</td>\n",
       "      <td>...</td>\n",
       "      <td>6</td>\n",
       "      <td>25</td>\n",
       "      <td>1</td>\n",
       "      <td>143220</td>\n",
       "      <td>False</td>\n",
       "      <td>True</td>\n",
       "      <td>False</td>\n",
       "      <td>False</td>\n",
       "      <td>True</td>\n",
       "      <td>True</td>\n",
       "    </tr>\n",
       "    <tr>\n",
       "      <th>1</th>\n",
       "      <td>228</td>\n",
       "      <td>42</td>\n",
       "      <td>342868</td>\n",
       "      <td>2006-06-27</td>\n",
       "      <td>IN</td>\n",
       "      <td>250/500</td>\n",
       "      <td>2000</td>\n",
       "      <td>1197.22</td>\n",
       "      <td>5000000</td>\n",
       "      <td>468176</td>\n",
       "      <td>...</td>\n",
       "      <td>2</td>\n",
       "      <td>21</td>\n",
       "      <td>0</td>\n",
       "      <td>0</td>\n",
       "      <td>False</td>\n",
       "      <td>False</td>\n",
       "      <td>True</td>\n",
       "      <td>False</td>\n",
       "      <td>False</td>\n",
       "      <td>False</td>\n",
       "    </tr>\n",
       "    <tr>\n",
       "      <th>2</th>\n",
       "      <td>134</td>\n",
       "      <td>29</td>\n",
       "      <td>687698</td>\n",
       "      <td>2000-09-06</td>\n",
       "      <td>OH</td>\n",
       "      <td>100/300</td>\n",
       "      <td>2000</td>\n",
       "      <td>1413.14</td>\n",
       "      <td>5000000</td>\n",
       "      <td>430632</td>\n",
       "      <td>...</td>\n",
       "      <td>6</td>\n",
       "      <td>22</td>\n",
       "      <td>1</td>\n",
       "      <td>69300</td>\n",
       "      <td>False</td>\n",
       "      <td>False</td>\n",
       "      <td>False</td>\n",
       "      <td>True</td>\n",
       "      <td>False</td>\n",
       "      <td>False</td>\n",
       "    </tr>\n",
       "    <tr>\n",
       "      <th>3</th>\n",
       "      <td>256</td>\n",
       "      <td>41</td>\n",
       "      <td>227811</td>\n",
       "      <td>1990-05-25</td>\n",
       "      <td>IL</td>\n",
       "      <td>250/500</td>\n",
       "      <td>2000</td>\n",
       "      <td>1415.74</td>\n",
       "      <td>6000000</td>\n",
       "      <td>608117</td>\n",
       "      <td>...</td>\n",
       "      <td>5</td>\n",
       "      <td>10</td>\n",
       "      <td>1</td>\n",
       "      <td>190200</td>\n",
       "      <td>False</td>\n",
       "      <td>True</td>\n",
       "      <td>False</td>\n",
       "      <td>False</td>\n",
       "      <td>False</td>\n",
       "      <td>False</td>\n",
       "    </tr>\n",
       "    <tr>\n",
       "      <th>4</th>\n",
       "      <td>228</td>\n",
       "      <td>44</td>\n",
       "      <td>367455</td>\n",
       "      <td>2014-06-06</td>\n",
       "      <td>IL</td>\n",
       "      <td>500/1000</td>\n",
       "      <td>1000</td>\n",
       "      <td>1583.91</td>\n",
       "      <td>6000000</td>\n",
       "      <td>610706</td>\n",
       "      <td>...</td>\n",
       "      <td>1</td>\n",
       "      <td>17</td>\n",
       "      <td>0</td>\n",
       "      <td>6500</td>\n",
       "      <td>False</td>\n",
       "      <td>False</td>\n",
       "      <td>True</td>\n",
       "      <td>False</td>\n",
       "      <td>False</td>\n",
       "      <td>False</td>\n",
       "    </tr>\n",
       "  </tbody>\n",
       "</table>\n",
       "<p>5 rows × 55 columns</p>\n",
       "</div>"
      ],
      "text/plain": [
       "   months_as_customer  age  policy_number policy_bind_date policy_state  \\\n",
       "0                 328   48         521585       2014-10-17           OH   \n",
       "1                 228   42         342868       2006-06-27           IN   \n",
       "2                 134   29         687698       2000-09-06           OH   \n",
       "3                 256   41         227811       1990-05-25           IL   \n",
       "4                 228   44         367455       2014-06-06           IL   \n",
       "\n",
       "  policy_csl  policy_deductable  policy_annual_premium  umbrella_limit  \\\n",
       "0    250/500               1000                1406.91               0   \n",
       "1    250/500               2000                1197.22         5000000   \n",
       "2    100/300               2000                1413.14         5000000   \n",
       "3    250/500               2000                1415.74         6000000   \n",
       "4   500/1000               1000                1583.91         6000000   \n",
       "\n",
       "   insured_zip  ... incident_dayofweek incident_day incident_is_weekend  \\\n",
       "0       466132  ...                  6           25                   1   \n",
       "1       468176  ...                  2           21                   0   \n",
       "2       430632  ...                  6           22                   1   \n",
       "3       608117  ...                  5           10                   1   \n",
       "4       610706  ...                  1           17                   0   \n",
       "\n",
       "  fraud_weight incident_type_PARKED CAR  \\\n",
       "0       143220                    False   \n",
       "1            0                    False   \n",
       "2        69300                    False   \n",
       "3       190200                    False   \n",
       "4         6500                    False   \n",
       "\n",
       "   incident_type_SINGLE VEHICLE COLLISION  incident_type_VEHICLE THEFT  \\\n",
       "0                                    True                        False   \n",
       "1                                   False                         True   \n",
       "2                                   False                        False   \n",
       "3                                    True                        False   \n",
       "4                                   False                         True   \n",
       "\n",
       "  collision_type_REAR COLLISION collision_type_SIDE COLLISION  \\\n",
       "0                         False                          True   \n",
       "1                         False                         False   \n",
       "2                          True                         False   \n",
       "3                         False                         False   \n",
       "4                         False                         False   \n",
       "\n",
       "  police_report_available_YES  \n",
       "0                        True  \n",
       "1                       False  \n",
       "2                       False  \n",
       "3                       False  \n",
       "4                       False  \n",
       "\n",
       "[5 rows x 55 columns]"
      ]
     },
     "execution_count": 2,
     "metadata": {},
     "output_type": "execute_result"
    }
   ],
   "source": [
    "# Define project directory and dataset file path\n",
    "project_dir = r\"C:\\\\Users\\\\Cloud\\\\OneDrive\\\\Desktop\\\\Fraud_Analytics_Project\"\n",
    "feature_file = os.path.join(project_dir, \"data\", \"features\", \"engineered_insurance_claims.csv\")\n",
    "\n",
    "# Load dataset into a DataFrame\n",
    "df = pd.read_csv(feature_file)\n",
    "\n",
    "print(\"Feature dataset loaded. Shape:\", df.shape)\n",
    "\n",
    "# Preview first five rows to verify data loaded correctly\n",
    "df.head()"
   ]
  },
  {
   "cell_type": "markdown",
   "id": "3eed49cc",
   "metadata": {},
   "source": [
    "### 2 Inspect and Clean Feature Data Types\n",
    "\n",
    "Before training any machine learning models, it's essential to ensure that the input features are numeric or boolean. Non-numeric columns, such as strings (`object` dtype), cannot be scaled or passed into most scikit-learn models without encoding.\n",
    "\n",
    "In this step:\n",
    "- I will inspect all current columns and their data types\n",
    "- Identify and remove any leftover object-type columns from my feature_engineering notebook (e.g., `incident_date`, `policy_state`, `insured_occupation`)\n",
    "- This guarantees that only numeric or boolean features are used for training and scaling\n",
    "\n",
    "> Note: Important categorical features should have already been one-hot encoded in the feature engineering stage. This cleanup ensures the dataset is fully model-ready."
   ]
  },
  {
   "cell_type": "code",
   "execution_count": 3,
   "id": "5901e9de",
   "metadata": {},
   "outputs": [
    {
     "name": "stdout",
     "output_type": "stream",
     "text": [
      "Columns in dataset:\n",
      "['months_as_customer', 'age', 'policy_number', 'policy_bind_date', 'policy_state', 'policy_csl', 'policy_deductable', 'policy_annual_premium', 'umbrella_limit', 'insured_zip', 'insured_sex', 'insured_education_level', 'insured_occupation', 'insured_hobbies', 'insured_relationship', 'capital-gains', 'capital-loss', 'incident_date', 'incident_severity', 'authorities_contacted', 'incident_state', 'incident_city', 'incident_location', 'incident_hour_of_the_day', 'number_of_vehicles_involved', 'property_damage', 'bodily_injuries', 'witnesses', 'total_claim_amount', 'injury_claim', 'property_claim', 'vehicle_claim', 'auto_make', 'auto_model', 'auto_year', 'fraud_reported', 'collision_type_missing_flag', 'police_report_available_missing_flag', 'property_damage_missing_flag', 'authorities_contacted_missing_flag', 'policy_csl_min', 'policy_csl_max', 'risk_score', 'incident_year', 'incident_month', 'incident_dayofweek', 'incident_day', 'incident_is_weekend', 'fraud_weight', 'incident_type_PARKED CAR', 'incident_type_SINGLE VEHICLE COLLISION', 'incident_type_VEHICLE THEFT', 'collision_type_REAR COLLISION', 'collision_type_SIDE COLLISION', 'police_report_available_YES']\n",
      "\n",
      "Data types:\n",
      "months_as_customer                          int64\n",
      "age                                         int64\n",
      "policy_number                               int64\n",
      "policy_bind_date                           object\n",
      "policy_state                               object\n",
      "policy_csl                                 object\n",
      "policy_deductable                           int64\n",
      "policy_annual_premium                     float64\n",
      "umbrella_limit                              int64\n",
      "insured_zip                                 int64\n",
      "insured_sex                                object\n",
      "insured_education_level                    object\n",
      "insured_occupation                         object\n",
      "insured_hobbies                            object\n",
      "insured_relationship                       object\n",
      "capital-gains                               int64\n",
      "capital-loss                                int64\n",
      "incident_date                              object\n",
      "incident_severity                          object\n",
      "authorities_contacted                      object\n",
      "incident_state                             object\n",
      "incident_city                              object\n",
      "incident_location                          object\n",
      "incident_hour_of_the_day                    int64\n",
      "number_of_vehicles_involved                 int64\n",
      "property_damage                            object\n",
      "bodily_injuries                             int64\n",
      "witnesses                                   int64\n",
      "total_claim_amount                          int64\n",
      "injury_claim                                int64\n",
      "property_claim                              int64\n",
      "vehicle_claim                               int64\n",
      "auto_make                                  object\n",
      "auto_model                                 object\n",
      "auto_year                                   int64\n",
      "fraud_reported                              int64\n",
      "collision_type_missing_flag                 int64\n",
      "police_report_available_missing_flag        int64\n",
      "property_damage_missing_flag                int64\n",
      "authorities_contacted_missing_flag          int64\n",
      "policy_csl_min                              int64\n",
      "policy_csl_max                              int64\n",
      "risk_score                                  int64\n",
      "incident_year                               int64\n",
      "incident_month                              int64\n",
      "incident_dayofweek                          int64\n",
      "incident_day                                int64\n",
      "incident_is_weekend                         int64\n",
      "fraud_weight                                int64\n",
      "incident_type_PARKED CAR                     bool\n",
      "incident_type_SINGLE VEHICLE COLLISION       bool\n",
      "incident_type_VEHICLE THEFT                  bool\n",
      "collision_type_REAR COLLISION                bool\n",
      "collision_type_SIDE COLLISION                bool\n",
      "police_report_available_YES                  bool\n",
      "dtype: object\n",
      "\n",
      "Remaining columns after dropping object types:\n",
      "['months_as_customer', 'age', 'policy_number', 'policy_deductable', 'policy_annual_premium', 'umbrella_limit', 'insured_zip', 'capital-gains', 'capital-loss', 'incident_hour_of_the_day', 'number_of_vehicles_involved', 'bodily_injuries', 'witnesses', 'total_claim_amount', 'injury_claim', 'property_claim', 'vehicle_claim', 'auto_year', 'fraud_reported', 'collision_type_missing_flag', 'police_report_available_missing_flag', 'property_damage_missing_flag', 'authorities_contacted_missing_flag', 'policy_csl_min', 'policy_csl_max', 'risk_score', 'incident_year', 'incident_month', 'incident_dayofweek', 'incident_day', 'incident_is_weekend', 'fraud_weight', 'incident_type_PARKED CAR', 'incident_type_SINGLE VEHICLE COLLISION', 'incident_type_VEHICLE THEFT', 'collision_type_REAR COLLISION', 'collision_type_SIDE COLLISION', 'police_report_available_YES']\n",
      "\n",
      "Remaining data types:\n",
      "int64      31\n",
      "bool        6\n",
      "float64     1\n",
      "Name: count, dtype: int64\n"
     ]
    }
   ],
   "source": [
    "# Print a list of all column names in the current DataFrame\n",
    "print(\"Columns in dataset:\")\n",
    "print(df.columns.tolist())\n",
    "\n",
    "# Print the data types of each column\n",
    "print(\"\\nData types:\")\n",
    "print(df.dtypes)\n",
    "\n",
    "# Drop raw string columns (object dtype) that cannot be scaled or modeled directly\n",
    "df = df.drop(columns=df.select_dtypes(include=['object']).columns, errors='ignore')\n",
    "\n",
    "# Confirm cleanup\n",
    "print(\"\\nRemaining columns after dropping object types:\")\n",
    "print(df.columns.tolist())\n",
    "\n",
    "print(\"\\nRemaining data types:\")\n",
    "print(df.dtypes.value_counts())"
   ]
  },
  {
   "cell_type": "markdown",
   "id": "4dfc18e8",
   "metadata": {},
   "source": [
    "### 3. Define Features and Target\n",
    "\n",
    "Here, I separate the dataset into explanatory variables (`X`) and the target variable (`y`), which indicates whether a claim was fraudulent. I standardize all numeric features to normalize their scales. This is critical for models sensitive to feature magnitude differences, such as Logistic Regression, ensuring faster convergence and improved performance.\n",
    "\n",
    "Purpose:\n",
    "- Separate features `(X)` from target `(y)`\n",
    "- Standardize numeric features for model training"
   ]
  },
  {
   "cell_type": "code",
   "execution_count": 4,
   "id": "61a67c57",
   "metadata": {},
   "outputs": [
    {
     "name": "stdout",
     "output_type": "stream",
     "text": [
      "Features and target separated. Scaling complete.\n"
     ]
    }
   ],
   "source": [
    "# Drop target column to get features\n",
    "X = df.drop(columns=['fraud_reported'])\n",
    "\n",
    "# Target variable\n",
    "y = df['fraud_reported']\n",
    "\n",
    "# Save feature column names for later use\n",
    "feature_names = X.columns.tolist()\n",
    "\n",
    "# Initialize standard scaler\n",
    "scaler = StandardScaler()\n",
    "\n",
    "# Fit scaler and transform features, keep DataFrame format for clarity\n",
    "X_scaled = pd.DataFrame(scaler.fit_transform(X), columns=feature_names)\n",
    "\n",
    "print(\"Features and target separated. Scaling complete.\")"
   ]
  },
  {
   "cell_type": "markdown",
   "id": "a326792a",
   "metadata": {},
   "source": [
    "### 4. Train-Test Split\n",
    "\n",
    "To fairly evaluate model generalization, I split the dataset into a training set used for model learning and a test set reserved for unbiased performance evaluation. Stratification maintains the original class imbalance distribution in both subsets, which is important due to the rarity of fraud cases and helps prevent biased model assessment.\n",
    "\n",
    "Purpose:\n",
    "- Split dataset into training and testing subsets\n",
    "- Stratify to maintain fraud class distribution"
   ]
  },
  {
   "cell_type": "code",
   "execution_count": 5,
   "id": "011245cd",
   "metadata": {},
   "outputs": [
    {
     "name": "stdout",
     "output_type": "stream",
     "text": [
      "Train-test split complete.\n",
      "Training set: (750, 37)\n",
      "Test set    : (250, 37)\n"
     ]
    }
   ],
   "source": [
    "# Perform train-test split (75% train, 25% test), stratify on target to balance classes\n",
    "X_train, X_test, y_train, y_test = train_test_split(\n",
    "    X_scaled, y, test_size=0.25, random_state=42, stratify=y\n",
    ")\n",
    "\n",
    "print(\"Train-test split complete.\")\n",
    "print(\"Training set:\", X_train.shape)\n",
    "print(\"Test set    :\", X_test.shape)"
   ]
  },
  {
   "cell_type": "markdown",
   "id": "5500f865",
   "metadata": {},
   "source": [
    "### 5. Baseline Model - Logistic Regression\n",
    "\n",
    "We implement Logistic Regression as a baseline model due to its interpretability and efficiency on tabular data. This simple linear model provides a benchmark performance level and insight into feature influence via coefficients. The classification report summarizes key metrics (precision, recall, F1-score), guiding us on model strengths and weaknesses in fraud detection.\n",
    "\n",
    "Purpose:\n",
    "- Train logistic regression as baseline classifier\n",
    "- Generate classification report for evaluation"
   ]
  },
  {
   "cell_type": "code",
   "execution_count": 6,
   "id": "1ac9f22f",
   "metadata": {},
   "outputs": [
    {
     "name": "stdout",
     "output_type": "stream",
     "text": [
      "Logistic Regression Report\n",
      "              precision    recall  f1-score   support\n",
      "\n",
      "           0       0.75      0.99      0.85       188\n",
      "           1       0.00      0.00      0.00        62\n",
      "\n",
      "    accuracy                           0.74       250\n",
      "   macro avg       0.38      0.49      0.43       250\n",
      "weighted avg       0.56      0.74      0.64       250\n",
      "\n"
     ]
    }
   ],
   "source": [
    "# Initialize Logistic Regression model with increased max iterations for convergence\n",
    "logreg = LogisticRegression(max_iter=1000)\n",
    "\n",
    "# Fit model on training data\n",
    "logreg.fit(X_train, y_train)\n",
    "\n",
    "# Predict on test set\n",
    "y_pred_lr = logreg.predict(X_test)\n",
    "\n",
    "# Display detailed classification metrics\n",
    "print(\"Logistic Regression Report\")\n",
    "print(classification_report(y_test, y_pred_lr))"
   ]
  },
  {
   "cell_type": "markdown",
   "id": "7660790b",
   "metadata": {},
   "source": [
    "### 6. Train Random Forest Classifier\n",
    "\n",
    "Next, I train a Random Forest model, this method builds multiple decision trees and aggregates their predictions. Random Forest often excels with tabular datasets and can capture complex nonlinear relationships. Comparing its performance to Logistic Regression helps me identify a more accurate and robust fraud detection model.\n",
    "\n",
    "Purpose:\n",
    "- Train a Random Forest, a robust tree-based classifier\n",
    "- Compare performance with baseline Logistic Regression"
   ]
  },
  {
   "cell_type": "code",
   "execution_count": 7,
   "id": "ecc75855",
   "metadata": {},
   "outputs": [
    {
     "name": "stdout",
     "output_type": "stream",
     "text": [
      "Random Forest Report\n",
      "              precision    recall  f1-score   support\n",
      "\n",
      "           0       0.75      0.99      0.86       188\n",
      "           1       0.33      0.02      0.03        62\n",
      "\n",
      "    accuracy                           0.75       250\n",
      "   macro avg       0.54      0.50      0.44       250\n",
      "weighted avg       0.65      0.75      0.65       250\n",
      "\n"
     ]
    }
   ],
   "source": [
    "# Initialize Random Forest with 100 trees\n",
    "rf = RandomForestClassifier(n_estimators=100, random_state=42)\n",
    "\n",
    "# Fit model on training data\n",
    "rf.fit(X_train, y_train)\n",
    "\n",
    "# Predict on test set\n",
    "y_pred_rf = rf.predict(X_test)\n",
    "\n",
    "# Show classification metrics for Random Forest\n",
    "print(\"Random Forest Report\")\n",
    "print(classification_report(y_test, y_pred_rf))"
   ]
  },
  {
   "cell_type": "markdown",
   "id": "58ad57e8",
   "metadata": {},
   "source": [
    "### 7. Visualize Confusion Matrices\n",
    "\n",
    "Confusion matrices visually depict classification outcomes, showing true positives, false positives, true negatives, and false negatives. This step will help stakeholders understand types of errors each model makes, crucial in fraud detection where minimizing false negatives (missed frauds) can have significant cost implications.\n",
    "\n",
    "Purpose:\n",
    "- Plot confusion matrices to visually assess classification results"
   ]
  },
  {
   "cell_type": "code",
   "execution_count": 8,
   "id": "78141964",
   "metadata": {},
   "outputs": [
    {
     "data": {
      "image/png": "[encoded data removed]",
      "text/plain": [
       "<Figure size 640x480 with 2 Axes>"
      ]
     },
     "metadata": {},
     "output_type": "display_data"
    },
    {
     "data": {
      "image/png": "[encoded data removed]",
      "text/plain": [
       "<Figure size 640x480 with 2 Axes>"
      ]
     },
     "metadata": {},
     "output_type": "display_data"
    }
   ],
   "source": [
    "def plot_conf_matrix(y_true, y_pred, title):\n",
    "    \"\"\"\n",
    "    Plot confusion matrix with annotations.\n",
    "    \n",
    "    Parameters:\n",
    "    y_true: array-like, ground truth labels\n",
    "    y_pred: array-like, predicted labels\n",
    "    title: str, plot title\n",
    "    \"\"\"\n",
    "    cm = confusion_matrix(y_true, y_pred)\n",
    "    sns.heatmap(cm, annot=True, fmt='d', cmap='Blues')\n",
    "    plt.title(title)\n",
    "    plt.xlabel(\"Predicted\")\n",
    "    plt.ylabel(\"Actual\")\n",
    "    plt.show()\n",
    "\n",
    "# Plot for Logistic Regression\n",
    "plot_conf_matrix(y_test, y_pred_lr, \"Logistic Regression Confusion Matrix\")\n",
    "\n",
    "# Plot for Random Forest\n",
    "plot_conf_matrix(y_test, y_pred_rf, \"Random Forest Confusion Matrix\")"
   ]
  },
  {
   "cell_type": "markdown",
   "id": "4d88bf36",
   "metadata": {},
   "source": [
    "### 8. Performance Comparison\n",
    "\n",
    "I quantitatively compare the models using the F1-score, a harmonic mean of precision and recall, which is a balanced measure especially valuable in imbalanced datasets like fraud detection. This informs which model better balances identifying fraud cases and limiting false alarms.\n",
    "\n",
    "Purpose:\n",
    "- Compare F1 scores of Logistic Regression and Random Forest models\n",
    "- Use F1 due to class imbalance in fraud detection"
   ]
  },
  {
   "cell_type": "code",
   "execution_count": 9,
   "id": "9ba9c2d2",
   "metadata": {},
   "outputs": [
    {
     "name": "stdout",
     "output_type": "stream",
     "text": [
      "F1 Score - Logistic Regression: 0.0000\n",
      "F1 Score - Random Forest      : 0.0308\n"
     ]
    }
   ],
   "source": [
    "# Calculate F1 scores for both models\n",
    "f1_lr = f1_score(y_test, y_pred_lr)\n",
    "f1_rf = f1_score(y_test, y_pred_rf)\n",
    "\n",
    "print(f\"F1 Score - Logistic Regression: {f1_lr:.4f}\")\n",
    "print(f\"F1 Score - Random Forest      : {f1_rf:.4f}\")"
   ]
  },
  {
   "cell_type": "markdown",
   "id": "398aa08b",
   "metadata": {},
   "source": [
    "### 9. Evaluate Probabilistic Metrics\n",
    "\n",
    "Beyond binary predictions, I assess model performance using probabilistic metrics: ROC AUC (Receiver Operating Characteristic Area Under Curve) and Precision Recall AUC. These metrics provide a nuanced view of model discrimination capability and effectiveness at various classification thresholds, critical in real world fraud risk prioritization.\n",
    "\n",
    "Purpose:\n",
    "- Compute ROC AUC and Precision Recall AUC for Random Forest\n",
    "- Useful metrics under class imbalanc"
   ]
  },
  {
   "cell_type": "code",
   "execution_count": 10,
   "id": "7d90c013",
   "metadata": {},
   "outputs": [
    {
     "name": "stdout",
     "output_type": "stream",
     "text": [
      "ROC AUC: 0.5649021962937543\n",
      "PR AUC : 0.2887427410006145\n"
     ]
    }
   ],
   "source": [
    "# Predict fraud probabilities for positive class\n",
    "y_prob_rf = rf.predict_proba(X_test)[:, 1]\n",
    "\n",
    "# Calculate ROC AUC (area under ROC curve)\n",
    "print(\"ROC AUC:\", roc_auc_score(y_test, y_prob_rf))\n",
    "\n",
    "# Calculate Precision-Recall AUC\n",
    "print(\"PR AUC :\", average_precision_score(y_test, y_prob_rf))"
   ]
  },
  {
   "cell_type": "markdown",
   "id": "b8a36dbe",
   "metadata": {},
   "source": [
    "### 10. ROC and Precision Recall Curves\n",
    "\n",
    "Visualizing ROC and Precision Recall curves enables stakeholders to see how the model’s performance varies with different decision thresholds. These plots help choose thresholds that balance catching frauds and avoiding false positives, aligning model behavior with business risk appetite.\n",
    "\n",
    "Purpose:\n",
    "- Plot ROC and Precision Recall curves to visualize model threshold effects"
   ]
  },
  {
   "cell_type": "code",
   "execution_count": 11,
   "id": "3ce6373b",
   "metadata": {},
   "outputs": [
    {
     "data": {
      "image/png": "[encoded data removed]",
      "text/plain": [
       "<Figure size 1200x500 with 2 Axes>"
      ]
     },
     "metadata": {},
     "output_type": "display_data"
    }
   ],
   "source": [
    "# Compute ROC curve\n",
    "fpr, tpr, _ = roc_curve(y_test, y_prob_rf)\n",
    "\n",
    "# Compute Precision-Recall curve\n",
    "prec, recall, _ = precision_recall_curve(y_test, y_prob_rf)\n",
    "\n",
    "plt.figure(figsize=(12, 5))\n",
    "\n",
    "# ROC curve subplot\n",
    "plt.subplot(1, 2, 1)\n",
    "plt.plot(fpr, tpr, label=\"ROC Curve\")\n",
    "plt.plot([0, 1], [0, 1], linestyle=\"--\", color=\"gray\")\n",
    "plt.title(\"ROC Curve\")\n",
    "plt.xlabel(\"False Positive Rate\")\n",
    "plt.ylabel(\"True Positive Rate\")\n",
    "\n",
    "# Precision-Recall curve subplot\n",
    "plt.subplot(1, 2, 2)\n",
    "plt.plot(recall, prec, label=\"PR Curve\")\n",
    "plt.title(\"Precision-Recall Curve\")\n",
    "plt.xlabel(\"Recall\")\n",
    "plt.ylabel(\"Precision\")\n",
    "\n",
    "plt.tight_layout()\n",
    "plt.show()"
   ]
  },
  {
   "cell_type": "markdown",
   "id": "4eaee470",
   "metadata": {},
   "source": [
    "### 11. Feature Importances (Random Forest)\n",
    "\n",
    "Here, I extract and visualize the most influential features driving the Random Forest model’s decisions. Understanding which variables contribute most to detecting fraud aids in model explainability and builds stakeholder trust. It can also guide future data collection and feature engineering efforts.\n",
    "\n",
    "Purpose:\n",
    "- Identify the most important features used by the Random Forest model\n",
    "- Helps with interpretability and insights"
   ]
  },
  {
   "cell_type": "code",
   "execution_count": 12,
   "id": "36d0ce5b",
   "metadata": {},
   "outputs": [
    {
     "data": {
      "image/png": "[encoded data removed]",
      "text/plain": [
       "<Figure size 1000x600 with 1 Axes>"
      ]
     },
     "metadata": {},
     "output_type": "display_data"
    }
   ],
   "source": [
    "# Extract feature importances\n",
    "importances = rf.feature_importances_\n",
    "\n",
    "# Sort and take top 20 features\n",
    "feat_imp = pd.Series(importances, index=feature_names).sort_values(ascending=False).head(20)\n",
    "\n",
    "# Plot feature importances as horizontal bar chart\n",
    "plt.figure(figsize=(10, 6))\n",
    "sns.barplot(x=feat_imp.values, y=feat_imp.index)\n",
    "plt.title(\"Top 20 Feature Importances\")\n",
    "plt.xlabel(\"Importance\")\n",
    "plt.ylabel(\"Feature\")\n",
    "plt.show()"
   ]
  },
  {
   "cell_type": "markdown",
   "id": "4e23c422",
   "metadata": {},
   "source": [
    "### 12. Save Best Model as Pipeline\n",
    "\n",
    "For consistent deployment and future scoring, I save the entire processing and modeling pipeline (scaling + Random Forest) as a single object. This ensures that new data undergoes the same preprocessing steps before prediction, reducing errors and streamlining integration into production or dashboards.\n",
    "\n",
    "Purpose:\n",
    "- Save entire pipeline with scaler and Random Forest\n",
    "- Ensures consistent preprocessing in deployment or dashboard"
   ]
  },
  {
   "cell_type": "code",
   "execution_count": 13,
   "id": "5eb8f1c8",
   "metadata": {},
   "outputs": [
    {
     "name": "stdout",
     "output_type": "stream",
     "text": [
      "Best model saved to: C:\\\\Users\\\\Cloud\\\\OneDrive\\\\Desktop\\\\Fraud_Analytics_Project\\models\\fraud_model_pipeline_rf.joblib\n"
     ]
    }
   ],
   "source": [
    "# Create pipeline that applies scaling and Random Forest in sequence\n",
    "pipeline = Pipeline([\n",
    "    ('scaler', StandardScaler()),\n",
    "    ('rf', RandomForestClassifier(n_estimators=100, random_state=42))\n",
    "])\n",
    "\n",
    "# Fit pipeline on training data\n",
    "pipeline.fit(X_train, y_train)\n",
    "\n",
    "# Create model directory if not exists\n",
    "model_dir = os.path.join(project_dir, \"models\")\n",
    "os.makedirs(model_dir, exist_ok=True)\n",
    "\n",
    "# Save pipeline to disk\n",
    "model_path = os.path.join(model_dir, \"fraud_model_pipeline_rf.joblib\")\n",
    "joblib.dump(pipeline, model_path)\n",
    "\n",
    "print(f\"Best model saved to: {model_path}\")"
   ]
  },
  {
   "cell_type": "markdown",
   "id": "39dd1f16",
   "metadata": {},
   "source": [
    "### 13. Metadata Logging\n",
    "\n",
    "I log library versions and run timestamps for reproducibility and audit purposes. This practice helps track the software environment under which the model was trained, supporting future debugging, retraining, and regulatory compliance.\n",
    "\n",
    "Purpose:\n",
    "- Log package versions and run date for reproducibility and reporting"
   ]
  },
  {
   "cell_type": "code",
   "execution_count": 14,
   "id": "2b173466",
   "metadata": {},
   "outputs": [
    {
     "name": "stdout",
     "output_type": "stream",
     "text": [
      "🔧 Versions and Metadata\n",
      "sklearn version: 1.4.2\n",
      "pandas version: 2.1.4\n",
      "Run date       : 2025-07-13 18:18:39\n"
     ]
    }
   ],
   "source": [
    "import sklearn\n",
    "import datetime\n",
    "\n",
    "print(\"🔧 Versions and Metadata\")\n",
    "print(\"sklearn version:\", sklearn.__version__)\n",
    "print(\"pandas version:\", pd.__version__)\n",
    "print(\"Run date       :\", datetime.datetime.now().strftime(\"%Y-%m-%d %H:%M:%S\"))"
   ]
  },
  {
   "cell_type": "markdown",
   "id": "dd61aaff",
   "metadata": {},
   "source": [
    "### 14. Next Steps\n",
    "\n",
    "This outlines the immediate actions following model training: integrating the saved model into the reporting dashboard, generating fraud risk predictions on new claims, and preparing for deployment. These steps close the analytics loop and deliver actionable insights to stakeholders.\n",
    "\n",
    "- Load this model pipeline in `reporting_dashboard.ipynb`\n",
    "- Generate fraud prediction outputs\n",
    "- Deploy model for live or batch scoring"
   ]
  },
  {
   "cell_type": "code",
   "execution_count": 15,
   "id": "864339cd",
   "metadata": {},
   "outputs": [
    {
     "name": "stdout",
     "output_type": "stream",
     "text": [
      "Next Steps:\n",
      "- Use `fraud_model_pipeline_rf.joblib` in dashboard notebook\n",
      "- Visualize predictions and high-risk fraud cases\n"
     ]
    }
   ],
   "source": [
    "print(\"Next Steps:\")\n",
    "print(\"- Use `fraud_model_pipeline_rf.joblib` in dashboard notebook\")\n",
    "print(\"- Visualize predictions and high-risk fraud cases\")"
   ]
  },
  {
   "cell_type": "markdown",
   "id": "66b7abf2",
   "metadata": {},
   "source": [
    "# Conclusion and Next Steps\n",
    "\n",
    "This notebook successfully developed and evaluated machine learning models for insurance fraud detection. The Random Forest classifier outperformed the baseline Logistic Regression model, providing higher predictive accuracy and robustness on this imbalanced dataset.\n",
    "\n",
    "By saving the full modeling pipeline, including preprocessing, I ensure reproducible and consistent predictions during deployment.\n",
    "\n",
    "Next steps include integrating this model into the reporting dashboard to generate real time fraud risk scores, enabling business stakeholders to prioritize investigations and reduce fraud related losses. Further enhancements could involve hyperparameter tuning, incorporating additional data sources, or exploring alternative algorithms to continually improve fraud detection effectiveness."
   ]
  }
 ],
 "metadata": {
  "kernelspec": {
   "display_name": "dev",
   "language": "python",
   "name": "python3"
  },
  "language_info": {
   "codemirror_mode": {
    "name": "ipython",
    "version": 3
   },
   "file_extension": ".py",
   "mimetype": "text/x-python",
   "name": "python",
   "nbconvert_exporter": "python",
   "pygments_lexer": "ipython3",
   "version": "3.10.14"
  }
 },
 "nbformat": 4,
 "nbformat_minor": 5
}
