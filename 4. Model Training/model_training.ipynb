{
 "cells": [
  {
   "cell_type": "markdown",
   "id": "84b8778d",
   "metadata": {},
   "source": [
    "# Model Training for Insurance Fraud Detection\n",
    "\n",
    "This notebook:\n",
    "- Loads the engineered dataset\n",
    "- Splits into training and test sets\n",
    "- Trains multiple classification models\n",
    "- Evaluates performance using precision, recall, F1-score\n",
    "- Identifies best-performing model"
   ]
  },
  {
   "cell_type": "code",
   "execution_count": null,
   "id": "3a25ea5a",
   "metadata": {},
   "outputs": [],
   "source": [
    "import pandas as pd\n",
    "import numpy as np\n",
    "\n",
    "from sklearn.model_selection import train_test_split\n",
    "from sklearn.preprocessing import StandardScaler\n",
    "from sklearn.linear_model import LogisticRegression\n",
    "from sklearn.ensemble import RandomForestClassifier\n",
    "from sklearn.metrics import classification_report, confusion_matrix\n",
    "import matplotlib.pyplot as plt\n",
    "import seaborn as sns"
   ]
  },
  {
   "cell_type": "markdown",
   "id": "0cd3b81b",
   "metadata": {},
   "source": [
    "## Step 1: Load Engineered Feature Dataset"
   ]
  },
  {
   "cell_type": "code",
   "execution_count": null,
   "id": "e07677bd",
   "metadata": {},
   "outputs": [],
   "source": [
    "import os\n",
    "\n",
    "project_dir = r\"C:\\Users\\Cloud\\OneDrive\\Desktop\\Fraud_Analytics_Project\"\n",
    "feature_file = os.path.join(project_dir, \"data\", \"features\", \"engineered_insurance_claims.csv\")\n",
    "\n",
    "df = pd.read_csv(feature_file)\n",
    "print(\"✅ Feature data loaded. Shape:\", df.shape)\n",
    "df.head()"
   ]
  },
  {
   "cell_type": "markdown",
   "id": "4dfc18e8",
   "metadata": {},
   "source": [
    "## Step 2: Split Features and Target Variable\n",
    "\n",
    "- `X`: Feature columns\n",
    "- `y`: Target (fraud_reported)"
   ]
  },
  {
   "cell_type": "code",
   "execution_count": null,
   "id": "61a67c57",
   "metadata": {},
   "outputs": [],
   "source": [
    "X = df.drop(columns=['fraud_reported'])\n",
    "y = df['fraud_reported']\n",
    "\n",
    "# Optional: scale numeric features\n",
    "scaler = StandardScaler()\n",
    "X_scaled = scaler.fit_transform(X)\n",
    "\n",
    "# Train-test split\n",
    "X_train, X_test, y_train, y_test = train_test_split(\n",
    "    X_scaled, y, test_size=0.25, random_state=42, stratify=y\n",
    ")\n",
    "\n",
    "print(\"✅ Split complete:\")\n",
    "print(\"Train size:\", X_train.shape)\n",
    "print(\"Test size :\", X_test.shape)"
   ]
  },
  {
   "cell_type": "markdown",
   "id": "a326792a",
   "metadata": {},
   "source": [
    "## Step 3: Train Models\n",
    "\n",
    "We will train:\n",
    "- Logistic Regression (baseline)\n",
    "- Random Forest Classifier (strong performer on tabular data)"
   ]
  },
  {
   "cell_type": "markdown",
   "id": "4da69299",
   "metadata": {},
   "source": [
    "### Train Logistic Regression"
   ]
  },
  {
   "cell_type": "code",
   "execution_count": null,
   "id": "011245cd",
   "metadata": {},
   "outputs": [],
   "source": [
    "logreg = LogisticRegression(max_iter=1000)\n",
    "logreg.fit(X_train, y_train)\n",
    "\n",
    "y_pred_lr = logreg.predict(X_test)\n",
    "\n",
    "print(\"📋 Logistic Regression Report:\")\n",
    "print(classification_report(y_test, y_pred_lr))"
   ]
  },
  {
   "cell_type": "markdown",
   "id": "5500f865",
   "metadata": {},
   "source": [
    "### Train Random Forest"
   ]
  },
  {
   "cell_type": "code",
   "execution_count": null,
   "id": "1ac9f22f",
   "metadata": {},
   "outputs": [],
   "source": [
    "rf = RandomForestClassifier(n_estimators=100, random_state=42)\n",
    "rf.fit(X_train, y_train)\n",
    "\n",
    "y_pred_rf = rf.predict(X_test)\n",
    "\n",
    "print(\"📋 Random Forest Report:\")\n",
    "print(classification_report(y_test, y_pred_rf))"
   ]
  },
  {
   "cell_type": "markdown",
   "id": "7660790b",
   "metadata": {},
   "source": [
    "## Step 4: Confusion Matrices\n",
    "\n",
    "Visualize confusion matrices for both models."
   ]
  },
  {
   "cell_type": "code",
   "execution_count": null,
   "id": "ecc75855",
   "metadata": {},
   "outputs": [],
   "source": [
    "def plot_cm(y_true, y_pred, title):\n",
    "    cm = confusion_matrix(y_true, y_pred)\n",
    "    sns.heatmap(cm, annot=True, fmt='d', cmap='Blues')\n",
    "    plt.title(title)\n",
    "    plt.xlabel(\"Predicted\")\n",
    "    plt.ylabel(\"Actual\")\n",
    "    plt.show()\n",
    "\n",
    "plot_cm(y_test, y_pred_lr, \"Logistic Regression Confusion Matrix\")\n",
    "plot_cm(y_test, y_pred_rf, \"Random Forest Confusion Matrix\")"
   ]
  },
  {
   "cell_type": "markdown",
   "id": "58ad57e8",
   "metadata": {},
   "source": [
    "## Step 5: Compare and Choose Best Model\n",
    "\n",
    "Use F1-score as the main metric due to class imbalance in fraud detection.\n"
   ]
  },
  {
   "cell_type": "code",
   "execution_count": null,
   "id": "78141964",
   "metadata": {},
   "outputs": [],
   "source": [
    "from sklearn.metrics import f1_score\n",
    "\n",
    "f1_lr = f1_score(y_test, y_pred_lr)\n",
    "f1_rf = f1_score(y_test, y_pred_rf)\n",
    "\n",
    "print(f\"F1 Score - Logistic Regression: {f1_lr:.4f}\")\n",
    "print(f\"F1 Score - Random Forest      : {f1_rf:.4f}\")"
   ]
  },
  {
   "cell_type": "markdown",
   "id": "4d88bf36",
   "metadata": {},
   "source": [
    "## Step 6: Save Best Model\n",
    "\n",
    "Save the Random Forest model using `joblib` for future deployment.\n"
   ]
  },
  {
   "cell_type": "code",
   "execution_count": null,
   "id": "9ba9c2d2",
   "metadata": {},
   "outputs": [],
   "source": [
    "import joblib\n",
    "\n",
    "model_dir = os.path.join(project_dir, \"models\")\n",
    "os.makedirs(model_dir, exist_ok=True)\n",
    "\n",
    "joblib.dump(rf, os.path.join(model_dir, \"fraud_model_rf.joblib\"))\n",
    "print(\"✅ Random Forest model saved.\")"
   ]
  },
  {
   "cell_type": "markdown",
   "id": "398aa08b",
   "metadata": {},
   "source": [
    "# Model Training Complete\n",
    "\n",
    "✅ Trained and evaluated:\n",
    "- Logistic Regression\n",
    "- Random Forest\n",
    "\n",
    "Best Model: Random Forest  \n",
    "Saved to: `models/fraud_model_rf.joblib`\n",
    "\n",
    "---\n",
    "\n",
    "Next Steps:\n",
    "- Visualize insights in `reporting_dashboard.ipynb`\n",
    "- Use the model for real-time or batch predictions"
   ]
  }
 ],
 "metadata": {
  "kernelspec": {
   "display_name": "dev",
   "language": "python",
   "name": "python3"
  },
  "language_info": {
   "name": "python",
   "version": "3.10.14"
  }
 },
 "nbformat": 4,
 "nbformat_minor": 5
}
