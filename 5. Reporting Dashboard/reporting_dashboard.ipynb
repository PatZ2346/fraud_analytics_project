{
 "cells": [
  {
   "cell_type": "markdown",
   "id": "e40cf6b3",
   "metadata": {},
   "source": [
    "# Reporting Dashboard Setup for Tableau\n",
    "\n",
    "This notebook prepares the final engineered dataset for Tableau visualization by loading it into PostgreSQL. Tableau will then connect to this data source to build interactive fraud detection dashboards, enabling stakeholders to explore fraud trends, risk scores, and claim characteristics with ease."
   ]
  },
  {
   "cell_type": "code",
   "execution_count": 1,
   "id": "ca12d069",
   "metadata": {},
   "outputs": [
    {
     "name": "stdout",
     "output_type": "stream",
     "text": [
      "Imports and file path setup complete.\n"
     ]
    }
   ],
   "source": [
    "# Imports essential libraries and Setup\n",
    "import pandas as pd\n",
    "import os\n",
    "from sqlalchemy import create_engine, text\n",
    "from getpass import getpass  # For secure password input\n",
    "\n",
    "# Project directory and engineered features file path\n",
    "project_dir = r\"C:\\Users\\Cloud\\OneDrive\\Desktop\\Fraud_Analytics_Project\"\n",
    "feature_file = os.path.join(project_dir, \"data\", \"features\", \"engineered_insurance_claims.csv\")\n",
    "print(\"Imports and file path setup complete.\")"
   ]
  },
  {
   "cell_type": "markdown",
   "id": "ec890cad",
   "metadata": {},
   "source": [
    "### 1. PostgreSQL Connection Setup\n",
    "\n",
    "I created a secure connection to the PostgreSQL database where Tableau will fetch the data.  \n",
    "Using `getpass()` avoids hardcoding sensitive passwords in code."
   ]
  },
  {
   "cell_type": "code",
   "execution_count": 2,
   "id": "03a5e8ce",
   "metadata": {},
   "outputs": [
    {
     "name": "stdout",
     "output_type": "stream",
     "text": [
      "PostgreSQL engine created.\n"
     ]
    }
   ],
   "source": [
    "# Securely prompt for PostgreSQL password\n",
    "pg_user = \"postgres\"\n",
    "pg_password = getpass(\"Enter PostgreSQL password: \")\n",
    "pg_host = \"localhost\"\n",
    "pg_port = 5432\n",
    "pg_dbname = \"fraud_analytics\"\n",
    "\n",
    "# Create SQLAlchemy engine for PostgreSQL connection\n",
    "engine = create_engine(f\"postgresql+psycopg2://{pg_user}:{pg_password}@{pg_host}:{pg_port}/{pg_dbname}\")\n",
    "print(\"PostgreSQL engine created.\")"
   ]
  },
  {
   "cell_type": "markdown",
   "id": "c5e10d6d",
   "metadata": {},
   "source": [
    "### 2. Load Engineered Data into PostgreSQL\n",
    "\n",
    "Load the final feature-engineered dataset into a PostgreSQL table called `tableau_insurance_claims`.  \n",
    "Using `if_exists='replace'` ensures the table refreshes with the latest data on each run, keeping Tableau dashboards up-to-date."
   ]
  },
  {
   "cell_type": "code",
   "execution_count": 3,
   "id": "dedd773f",
   "metadata": {},
   "outputs": [
    {
     "name": "stdout",
     "output_type": "stream",
     "text": [
      "Loaded 1000 records into PostgreSQL table: tableau_insurance_claims\n"
     ]
    }
   ],
   "source": [
    "# Drop the view if it exists using SQLAlchemy's `text()`\n",
    "with engine.connect() as conn:\n",
    "    conn.execute(text(\"DROP VIEW IF EXISTS v_fraud_summary;\"))  # Wrapped in text()\n",
    "    conn.commit()  # Commit the transaction\n",
    "\n",
    "# Load the engineered dataset into a DataFrame\n",
    "df = pd.read_csv(feature_file)\n",
    "\n",
    "# Replace the PostgreSQL table\n",
    "df.to_sql(\"tableau_insurance_claims\", engine, if_exists=\"replace\", index=False)\n",
    "print(f\"Loaded {df.shape[0]} records into PostgreSQL table: tableau_insurance_claims\")"
   ]
  },
  {
   "cell_type": "markdown",
   "id": "d2f1898c",
   "metadata": {},
   "source": [
    "### 3. Manually Create PostgreSQL View for Tableau (Optional but Recommended)\n",
    "\n",
    "To simplify Tableau data consumption, I have created a database view that selects and organizes the key columns from the fraud analytics table.\n",
    "\n",
    "### Follow these steps to create the view using pgAdmin4:\n",
    "\n",
    "1. **Open pgAdmin4** on your computer and connect to your PostgreSQL server.\n",
    "\n",
    "2. In the left sidebar, navigate to your database:\n",
    "   - Expand **Servers** → your server name → **Databases** → `fraud_analytics` (or your database name).\n",
    "\n",
    "3. Right-click on **Schemas** → **public** → **Views**, and select **Create** → **View...**\n",
    "\n",
    "4. In the **Create - View** dialog:\n",
    "   - Enter the view name as: `v_fraud_summary`\n",
    "   - Click the **Definition** tab or section.\n",
    "\n",
    "5. Paste the following SQL query into the **View Definition** box:\n",
    "\n",
    "    ```sql\n",
    "    CREATE OR REPLACE VIEW v_fraud_summary AS\n",
    "    SELECT\n",
    "        fraud_reported,\n",
    "        total_claim_amount,\n",
    "        risk_score,\n",
    "        fraud_weight,\n",
    "        incident_year,\n",
    "        incident_month,\n",
    "        incident_dayofweek,\n",
    "        incident_is_weekend,\n",
    "        \"incident_type_PARKED CAR\",\n",
    "        \"incident_type_SINGLE VEHICLE COLLISION\",\n",
    "        \"incident_type_VEHICLE THEFT\",\n",
    "        \"collision_type_REAR COLLISION\",\n",
    "        \"collision_type_SIDE COLLISION\",\n",
    "        \"police_report_available_YES\"\n",
    "    FROM\n",
    "    tableau_insurance_claims;\n",
    "    ```\n",
    "\n",
    "6. Click **Save** or **OK** to create the view.\n",
    "\n",
    "7. To verify, expand the **Views** node under your database schema, and confirm `v_fraud_summary` appears.\n",
    "\n",
    "8. Now, in Tableau, you can connect directly to this view `v_fraud_summary` instead of the full table for easier querying and cleaner dashboards.\n",
    "\n",
    "---\n",
    "\n",
    "> Notes:  \n",
    "> Creating this view does **not** duplicate the data (as tested), it simply defines a saved SQL query that Tableau can use.  \n",
    "> If data updates frequently, the view will always reflect the latest table data.  \n",
    "\n",
    "---"
   ]
  },
  {
   "cell_type": "markdown",
   "id": "72416c87",
   "metadata": {},
   "source": [
    "### 4. Connect Tableau to PostgreSQL\n",
    "\n",
    "Steps to connect Tableau Desktop to PostgreSQL data source:\n",
    "\n",
    "1. Launch Tableau Desktop.\n",
    "2. Select **PostgreSQL** as the connection type.\n",
    "3. Enter connection details:\n",
    "   - Server: `localhost`\n",
    "   - Port: `5432`\n",
    "   - Database: `fraud_analytics`\n",
    "   - Username: `postgres`\n",
    "   - Password: (your PostgreSQL password)\n",
    "4. Choose your data source:\n",
    "   - Table: `tableau_insurance_claims`  \n",
    "   - Or View: `v_fraud_summary` (recommended for cleaner schema)\n",
    "5. Click **Sheet** to begin creating dashboards.\n",
    "\n",
    "---\n",
    "\n",
    "### Dashboard Ideas for Fraud Analytics\n",
    "\n",
    "- **Total Claim Amount** by Fraud Status  \n",
    "- **Average Risk Score** by Incident Type  \n",
    "- Fraud **Trends Over Time** (Monthly, Weekly, Daily)  \n",
    "- Heatmap of **Fraud Frequency** by Hour of Day vs Collision Type  \n",
    "- Bar chart showing **Fraud Percentage** by Police Report Availability"
   ]
  }
 ],
 "metadata": {
  "kernelspec": {
   "display_name": "dev",
   "language": "python",
   "name": "python3"
  },
  "language_info": {
   "codemirror_mode": {
    "name": "ipython",
    "version": 3
   },
   "file_extension": ".py",
   "mimetype": "text/x-python",
   "name": "python",
   "nbconvert_exporter": "python",
   "pygments_lexer": "ipython3",
   "version": "3.10.14"
  }
 },
 "nbformat": 4,
 "nbformat_minor": 5
}
