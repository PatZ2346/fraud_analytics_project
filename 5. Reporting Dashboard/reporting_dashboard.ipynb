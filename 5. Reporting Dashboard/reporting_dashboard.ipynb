{
 "cells": [
  {
   "cell_type": "markdown",
   "id": "e40cf6b3",
   "metadata": {},
   "source": [
    "# Reporting Dashboard Setup for Tableau\n",
    "\n",
    "This notebook prepares the final dataset and loads it into PostgreSQL so Tableau can:\n",
    "- Access cleaned and engineered features\n",
    "- Build dashboards for fraud detection analytics\n"
   ]
  },
  {
   "cell_type": "code",
   "execution_count": null,
   "id": "ca12d069",
   "metadata": {},
   "outputs": [],
   "source": [
    "import pandas as pd\n",
    "import os\n",
    "from sqlalchemy import create_engine\n",
    "\n",
    "# File path\n",
    "project_dir = r\"C:\\Users\\Cloud\\OneDrive\\Desktop\\Fraud_Analytics_Project\"\n",
    "feature_file = os.path.join(project_dir, \"data\", \"features\", \"engineered_insurance_claims.csv\")\n",
    "\n",
    "# PostgreSQL credentials\n",
    "pg_user = \"postgres\"\n",
    "pg_password = \"your_password_here\"\n",
    "pg_host = \"localhost\"\n",
    "pg_port = 5432\n",
    "pg_dbname = \"fraud_analytics\"\n",
    "\n",
    "# Connection engine\n",
    "engine = create_engine(f\"postgresql+psycopg2://{pg_user}:{pg_password}@{pg_host}:{pg_port}/{pg_dbname}\")"
   ]
  },
  {
   "cell_type": "markdown",
   "id": "ec890cad",
   "metadata": {},
   "source": [
    "## Step 1: Load Engineered Data into PostgreSQL Table"
   ]
  },
  {
   "cell_type": "code",
   "execution_count": null,
   "id": "03a5e8ce",
   "metadata": {},
   "outputs": [],
   "source": [
    "df = pd.read_csv(feature_file)\n",
    "df.to_sql(\"tableau_insurance_claims\", engine, if_exists=\"replace\", index=False)\n",
    "print(\"✅ Data loaded into PostgreSQL table: tableau_insurance_claims\")"
   ]
  },
  {
   "cell_type": "markdown",
   "id": "c5e10d6d",
   "metadata": {},
   "source": [
    "## Step 2 (Optional): Create a PostgreSQL View for Tableau\n",
    "\n",
    "Use pgAdmin 4 or a SQL script to create a clean view with renamed or simplified fields."
   ]
  },
  {
   "cell_type": "markdown",
   "id": "8e5769ad",
   "metadata": {},
   "source": [
    "### 📜 Example SQL View (Run in pgAdmin 4)\n",
    "\n",
    "```sql\n",
    "CREATE OR REPLACE VIEW v_fraud_summary AS\n",
    "SELECT\n",
    "    fraud_reported,\n",
    "    total_claim_amount,\n",
    "    risk_score,\n",
    "    fraud_weight,\n",
    "    incident_year,\n",
    "    incident_month,\n",
    "    incident_dayofweek,\n",
    "    incident_is_weekend,\n",
    "    incident_type_Property_Damage,\n",
    "    incident_type_Single_Vehicle_Collision,\n",
    "    incident_type_Vehicle_Theft,\n",
    "    collision_type_Rear_Collision,\n",
    "    collision_type_Side_Collision,\n",
    "    police_report_available_YES\n",
    "FROM\n",
    "    tableau_insurance_claims;"
   ]
  },
  {
   "cell_type": "code",
   "execution_count": null,
   "id": "6a0cad35",
   "metadata": {},
   "outputs": [],
   "source": [
    "\n",
    "---\n",
    "\n",
    "### ✅ Markdown Cell 6 – Connect Tableau to PostgreSQL\n",
    "\n",
    "```markdown\n",
    "## 🔌 Step 3: Connect Tableau to PostgreSQL\n",
    "\n",
    "1. Open Tableau Desktop\n",
    "2. Select **PostgreSQL** as your data source\n",
    "3. Enter connection details:\n",
    "   - **Server**: `localhost`\n",
    "   - **Port**: `5432`\n",
    "   - **Database**: `fraud_analytics`\n",
    "   - **Username**: `postgres`\n",
    "   - **Password**: your_password_here\n",
    "4. Choose:\n",
    "   - Table: `tableau_insurance_claims`\n",
    "   - OR View: `v_fraud_summary`\n",
    "5. Click **\"Sheet\"** to start building visuals!"
   ]
  },
  {
   "cell_type": "markdown",
   "id": "72416c87",
   "metadata": {},
   "source": [
    "## Dashboard Ideas\n",
    "\n",
    "- Total Claim Amount by Fraud Status\n",
    "- Average Risk Score by Incident Type\n",
    "- Fraud Trend by Month or Day of Week\n",
    "- Heatmap: Fraud by Hour of Day vs Collision Type\n",
    "- Bar Chart: Fraud % by Police Report Availability"
   ]
  },
  {
   "cell_type": "markdown",
   "id": "3acd510b",
   "metadata": {},
   "source": [
    "### Once you're in Tableau, you can drag-and-drop fields and use filters for:\n",
    "\n",
    "- Creating fraud dashboards\n",
    "- Exporting reports\n",
    "- Building presentations"
   ]
  }
 ],
 "metadata": {
  "kernelspec": {
   "display_name": "dev",
   "language": "python",
   "name": "python3"
  },
  "language_info": {
   "name": "python",
   "version": "3.10.14"
  }
 },
 "nbformat": 4,
 "nbformat_minor": 5
}
