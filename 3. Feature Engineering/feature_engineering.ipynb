{
 "cells": [
  {
   "cell_type": "markdown",
   "id": "8292be35",
   "metadata": {},
   "source": [
    "# Feature Engineering for Insurance Fraud Detection\n",
    "\n",
    "This notebook builds on the cleaned dataset and prepares it for machine learning by:\n",
    "\n",
    "- Extracting meaningful **time based features** from `incident_date`\n",
    "- Creating a custom **fraud signal** (`fraud_weight`)\n",
    "- Applying **One-Hot Encoding** to key categorical variables\n",
    "- Saving the final dataset as a model ready CSV for training\n",
    "\n",
    "> These steps are crucial for improving model performance and interpretability."
   ]
  },
  {
   "cell_type": "code",
   "execution_count": 1,
   "id": "4b3becfb",
   "metadata": {},
   "outputs": [
    {
     "name": "stdout",
     "output_type": "stream",
     "text": [
      "Loaded cleaned dataset with shape: (1000, 46)\n"
     ]
    },
    {
     "data": {
      "application/vnd.microsoft.datawrangler.viewer.v0+json": {
       "columns": [
        {
         "name": "index",
         "rawType": "int64",
         "type": "integer"
        },
        {
         "name": "months_as_customer",
         "rawType": "int64",
         "type": "integer"
        },
        {
         "name": "age",
         "rawType": "int64",
         "type": "integer"
        },
        {
         "name": "policy_number",
         "rawType": "int64",
         "type": "integer"
        },
        {
         "name": "policy_bind_date",
         "rawType": "object",
         "type": "string"
        },
        {
         "name": "policy_state",
         "rawType": "object",
         "type": "string"
        },
        {
         "name": "policy_csl",
         "rawType": "object",
         "type": "string"
        },
        {
         "name": "policy_deductable",
         "rawType": "int64",
         "type": "integer"
        },
        {
         "name": "policy_annual_premium",
         "rawType": "float64",
         "type": "float"
        },
        {
         "name": "umbrella_limit",
         "rawType": "int64",
         "type": "integer"
        },
        {
         "name": "insured_zip",
         "rawType": "int64",
         "type": "integer"
        },
        {
         "name": "insured_sex",
         "rawType": "object",
         "type": "string"
        },
        {
         "name": "insured_education_level",
         "rawType": "object",
         "type": "string"
        },
        {
         "name": "insured_occupation",
         "rawType": "object",
         "type": "string"
        },
        {
         "name": "insured_hobbies",
         "rawType": "object",
         "type": "string"
        },
        {
         "name": "insured_relationship",
         "rawType": "object",
         "type": "string"
        },
        {
         "name": "capital-gains",
         "rawType": "int64",
         "type": "integer"
        },
        {
         "name": "capital-loss",
         "rawType": "int64",
         "type": "integer"
        },
        {
         "name": "incident_date",
         "rawType": "object",
         "type": "string"
        },
        {
         "name": "incident_type",
         "rawType": "object",
         "type": "string"
        },
        {
         "name": "collision_type",
         "rawType": "object",
         "type": "unknown"
        },
        {
         "name": "incident_severity",
         "rawType": "object",
         "type": "string"
        },
        {
         "name": "authorities_contacted",
         "rawType": "object",
         "type": "string"
        },
        {
         "name": "incident_state",
         "rawType": "object",
         "type": "string"
        },
        {
         "name": "incident_city",
         "rawType": "object",
         "type": "string"
        },
        {
         "name": "incident_location",
         "rawType": "object",
         "type": "string"
        },
        {
         "name": "incident_hour_of_the_day",
         "rawType": "int64",
         "type": "integer"
        },
        {
         "name": "number_of_vehicles_involved",
         "rawType": "int64",
         "type": "integer"
        },
        {
         "name": "property_damage",
         "rawType": "object",
         "type": "unknown"
        },
        {
         "name": "bodily_injuries",
         "rawType": "int64",
         "type": "integer"
        },
        {
         "name": "witnesses",
         "rawType": "int64",
         "type": "integer"
        },
        {
         "name": "police_report_available",
         "rawType": "object",
         "type": "unknown"
        },
        {
         "name": "total_claim_amount",
         "rawType": "int64",
         "type": "integer"
        },
        {
         "name": "injury_claim",
         "rawType": "int64",
         "type": "integer"
        },
        {
         "name": "property_claim",
         "rawType": "int64",
         "type": "integer"
        },
        {
         "name": "vehicle_claim",
         "rawType": "int64",
         "type": "integer"
        },
        {
         "name": "auto_make",
         "rawType": "object",
         "type": "string"
        },
        {
         "name": "auto_model",
         "rawType": "object",
         "type": "string"
        },
        {
         "name": "auto_year",
         "rawType": "int64",
         "type": "integer"
        },
        {
         "name": "fraud_reported",
         "rawType": "int64",
         "type": "integer"
        },
        {
         "name": "collision_type_missing_flag",
         "rawType": "int64",
         "type": "integer"
        },
        {
         "name": "police_report_available_missing_flag",
         "rawType": "int64",
         "type": "integer"
        },
        {
         "name": "property_damage_missing_flag",
         "rawType": "int64",
         "type": "integer"
        },
        {
         "name": "authorities_contacted_missing_flag",
         "rawType": "int64",
         "type": "integer"
        },
        {
         "name": "policy_csl_min",
         "rawType": "int64",
         "type": "integer"
        },
        {
         "name": "policy_csl_max",
         "rawType": "int64",
         "type": "integer"
        },
        {
         "name": "risk_score",
         "rawType": "int64",
         "type": "integer"
        }
       ],
       "ref": "58648fea-b10b-4bb6-80c0-4756d96e66f8",
       "rows": [
        [
         "0",
         "328",
         "48",
         "521585",
         "2014-10-17",
         "OH",
         "250/500",
         "1000",
         "1406.91",
         "0",
         "466132",
         "MALE",
         "MD",
         "CRAFT-REPAIR",
         "SLEEPING",
         "HUSBAND",
         "53300",
         "0",
         "2015-01-25",
         "SINGLE VEHICLE COLLISION",
         "SIDE COLLISION",
         "MAJOR DAMAGE",
         "POLICE",
         "SC",
         "COLUMBUS",
         "9935 4TH DRIVE",
         "5",
         "1",
         "YES",
         "1",
         "2",
         "YES",
         "71610",
         "6510",
         "13020",
         "52080",
         "SAAB",
         "92X",
         "2004",
         "1",
         "0",
         "0",
         "0",
         "0",
         "250",
         "500",
         "2"
        ],
        [
         "1",
         "228",
         "42",
         "342868",
         "2006-06-27",
         "IN",
         "250/500",
         "2000",
         "1197.22",
         "5000000",
         "468176",
         "MALE",
         "MD",
         "MACHINE-OP-INSPCT",
         "READING",
         "OTHER-RELATIVE",
         "0",
         "0",
         "2015-01-21",
         "VEHICLE THEFT",
         null,
         "MINOR DAMAGE",
         "POLICE",
         "VA",
         "RIVERWOOD",
         "6608 MLK HWY",
         "8",
         "1",
         null,
         "0",
         "0",
         null,
         "5070",
         "780",
         "780",
         "3510",
         "MERCEDES",
         "E400",
         "2007",
         "1",
         "0",
         "0",
         "0",
         "0",
         "250",
         "500",
         "0"
        ],
        [
         "2",
         "134",
         "29",
         "687698",
         "2000-09-06",
         "OH",
         "100/300",
         "2000",
         "1413.14",
         "5000000",
         "430632",
         "FEMALE",
         "PHD",
         "SALES",
         "BOARD-GAMES",
         "OWN-CHILD",
         "35100",
         "0",
         "2015-02-22",
         "MULTI-VEHICLE COLLISION",
         "REAR COLLISION",
         "MINOR DAMAGE",
         "POLICE",
         "NY",
         "COLUMBUS",
         "7121 FRANCIS LANE",
         "7",
         "3",
         "NO",
         "2",
         "3",
         "NO",
         "34650",
         "7700",
         "3850",
         "23100",
         "DODGE",
         "RAM",
         "2007",
         "0",
         "0",
         "0",
         "0",
         "0",
         "100",
         "300",
         "2"
        ],
        [
         "3",
         "256",
         "41",
         "227811",
         "1990-05-25",
         "IL",
         "250/500",
         "2000",
         "1415.74",
         "6000000",
         "608117",
         "FEMALE",
         "PHD",
         "ARMED-FORCES",
         "BOARD-GAMES",
         "UNMARRIED",
         "48900",
         "-62400",
         "2015-01-10",
         "SINGLE VEHICLE COLLISION",
         "FRONT COLLISION",
         "MAJOR DAMAGE",
         "POLICE",
         "OH",
         "ARLINGTON",
         "6956 MAPLE DRIVE",
         "5",
         "1",
         null,
         "1",
         "2",
         "NO",
         "63400",
         "6340",
         "6340",
         "50720",
         "CHEVROLET",
         "TAHOE",
         "2014",
         "1",
         "0",
         "0",
         "0",
         "0",
         "250",
         "500",
         "3"
        ],
        [
         "4",
         "228",
         "44",
         "367455",
         "2014-06-06",
         "IL",
         "500/1000",
         "1000",
         "1583.91",
         "6000000",
         "610706",
         "MALE",
         "ASSOCIATE",
         "SALES",
         "BOARD-GAMES",
         "UNMARRIED",
         "66000",
         "-46000",
         "2015-02-17",
         "VEHICLE THEFT",
         null,
         "MINOR DAMAGE",
         "NAN",
         "NY",
         "ARLINGTON",
         "3041 3RD AVE",
         "20",
         "1",
         "NO",
         "0",
         "1",
         "NO",
         "6500",
         "1300",
         "650",
         "4550",
         "ACCURA",
         "RSX",
         "2009",
         "0",
         "0",
         "0",
         "0",
         "0",
         "500",
         "1000",
         "1"
        ]
       ],
       "shape": {
        "columns": 46,
        "rows": 5
       }
      },
      "text/html": [
       "<div>\n",
       "<style scoped>\n",
       "    .dataframe tbody tr th:only-of-type {\n",
       "        vertical-align: middle;\n",
       "    }\n",
       "\n",
       "    .dataframe tbody tr th {\n",
       "        vertical-align: top;\n",
       "    }\n",
       "\n",
       "    .dataframe thead th {\n",
       "        text-align: right;\n",
       "    }\n",
       "</style>\n",
       "<table border=\"1\" class=\"dataframe\">\n",
       "  <thead>\n",
       "    <tr style=\"text-align: right;\">\n",
       "      <th></th>\n",
       "      <th>months_as_customer</th>\n",
       "      <th>age</th>\n",
       "      <th>policy_number</th>\n",
       "      <th>policy_bind_date</th>\n",
       "      <th>policy_state</th>\n",
       "      <th>policy_csl</th>\n",
       "      <th>policy_deductable</th>\n",
       "      <th>policy_annual_premium</th>\n",
       "      <th>umbrella_limit</th>\n",
       "      <th>insured_zip</th>\n",
       "      <th>...</th>\n",
       "      <th>auto_model</th>\n",
       "      <th>auto_year</th>\n",
       "      <th>fraud_reported</th>\n",
       "      <th>collision_type_missing_flag</th>\n",
       "      <th>police_report_available_missing_flag</th>\n",
       "      <th>property_damage_missing_flag</th>\n",
       "      <th>authorities_contacted_missing_flag</th>\n",
       "      <th>policy_csl_min</th>\n",
       "      <th>policy_csl_max</th>\n",
       "      <th>risk_score</th>\n",
       "    </tr>\n",
       "  </thead>\n",
       "  <tbody>\n",
       "    <tr>\n",
       "      <th>0</th>\n",
       "      <td>328</td>\n",
       "      <td>48</td>\n",
       "      <td>521585</td>\n",
       "      <td>2014-10-17</td>\n",
       "      <td>OH</td>\n",
       "      <td>250/500</td>\n",
       "      <td>1000</td>\n",
       "      <td>1406.91</td>\n",
       "      <td>0</td>\n",
       "      <td>466132</td>\n",
       "      <td>...</td>\n",
       "      <td>92X</td>\n",
       "      <td>2004</td>\n",
       "      <td>1</td>\n",
       "      <td>0</td>\n",
       "      <td>0</td>\n",
       "      <td>0</td>\n",
       "      <td>0</td>\n",
       "      <td>250</td>\n",
       "      <td>500</td>\n",
       "      <td>2</td>\n",
       "    </tr>\n",
       "    <tr>\n",
       "      <th>1</th>\n",
       "      <td>228</td>\n",
       "      <td>42</td>\n",
       "      <td>342868</td>\n",
       "      <td>2006-06-27</td>\n",
       "      <td>IN</td>\n",
       "      <td>250/500</td>\n",
       "      <td>2000</td>\n",
       "      <td>1197.22</td>\n",
       "      <td>5000000</td>\n",
       "      <td>468176</td>\n",
       "      <td>...</td>\n",
       "      <td>E400</td>\n",
       "      <td>2007</td>\n",
       "      <td>1</td>\n",
       "      <td>0</td>\n",
       "      <td>0</td>\n",
       "      <td>0</td>\n",
       "      <td>0</td>\n",
       "      <td>250</td>\n",
       "      <td>500</td>\n",
       "      <td>0</td>\n",
       "    </tr>\n",
       "    <tr>\n",
       "      <th>2</th>\n",
       "      <td>134</td>\n",
       "      <td>29</td>\n",
       "      <td>687698</td>\n",
       "      <td>2000-09-06</td>\n",
       "      <td>OH</td>\n",
       "      <td>100/300</td>\n",
       "      <td>2000</td>\n",
       "      <td>1413.14</td>\n",
       "      <td>5000000</td>\n",
       "      <td>430632</td>\n",
       "      <td>...</td>\n",
       "      <td>RAM</td>\n",
       "      <td>2007</td>\n",
       "      <td>0</td>\n",
       "      <td>0</td>\n",
       "      <td>0</td>\n",
       "      <td>0</td>\n",
       "      <td>0</td>\n",
       "      <td>100</td>\n",
       "      <td>300</td>\n",
       "      <td>2</td>\n",
       "    </tr>\n",
       "    <tr>\n",
       "      <th>3</th>\n",
       "      <td>256</td>\n",
       "      <td>41</td>\n",
       "      <td>227811</td>\n",
       "      <td>1990-05-25</td>\n",
       "      <td>IL</td>\n",
       "      <td>250/500</td>\n",
       "      <td>2000</td>\n",
       "      <td>1415.74</td>\n",
       "      <td>6000000</td>\n",
       "      <td>608117</td>\n",
       "      <td>...</td>\n",
       "      <td>TAHOE</td>\n",
       "      <td>2014</td>\n",
       "      <td>1</td>\n",
       "      <td>0</td>\n",
       "      <td>0</td>\n",
       "      <td>0</td>\n",
       "      <td>0</td>\n",
       "      <td>250</td>\n",
       "      <td>500</td>\n",
       "      <td>3</td>\n",
       "    </tr>\n",
       "    <tr>\n",
       "      <th>4</th>\n",
       "      <td>228</td>\n",
       "      <td>44</td>\n",
       "      <td>367455</td>\n",
       "      <td>2014-06-06</td>\n",
       "      <td>IL</td>\n",
       "      <td>500/1000</td>\n",
       "      <td>1000</td>\n",
       "      <td>1583.91</td>\n",
       "      <td>6000000</td>\n",
       "      <td>610706</td>\n",
       "      <td>...</td>\n",
       "      <td>RSX</td>\n",
       "      <td>2009</td>\n",
       "      <td>0</td>\n",
       "      <td>0</td>\n",
       "      <td>0</td>\n",
       "      <td>0</td>\n",
       "      <td>0</td>\n",
       "      <td>500</td>\n",
       "      <td>1000</td>\n",
       "      <td>1</td>\n",
       "    </tr>\n",
       "  </tbody>\n",
       "</table>\n",
       "<p>5 rows × 46 columns</p>\n",
       "</div>"
      ],
      "text/plain": [
       "   months_as_customer  age  policy_number policy_bind_date policy_state  \\\n",
       "0                 328   48         521585       2014-10-17           OH   \n",
       "1                 228   42         342868       2006-06-27           IN   \n",
       "2                 134   29         687698       2000-09-06           OH   \n",
       "3                 256   41         227811       1990-05-25           IL   \n",
       "4                 228   44         367455       2014-06-06           IL   \n",
       "\n",
       "  policy_csl  policy_deductable  policy_annual_premium  umbrella_limit  \\\n",
       "0    250/500               1000                1406.91               0   \n",
       "1    250/500               2000                1197.22         5000000   \n",
       "2    100/300               2000                1413.14         5000000   \n",
       "3    250/500               2000                1415.74         6000000   \n",
       "4   500/1000               1000                1583.91         6000000   \n",
       "\n",
       "   insured_zip  ... auto_model auto_year fraud_reported  \\\n",
       "0       466132  ...        92X      2004              1   \n",
       "1       468176  ...       E400      2007              1   \n",
       "2       430632  ...        RAM      2007              0   \n",
       "3       608117  ...      TAHOE      2014              1   \n",
       "4       610706  ...        RSX      2009              0   \n",
       "\n",
       "  collision_type_missing_flag police_report_available_missing_flag  \\\n",
       "0                           0                                    0   \n",
       "1                           0                                    0   \n",
       "2                           0                                    0   \n",
       "3                           0                                    0   \n",
       "4                           0                                    0   \n",
       "\n",
       "   property_damage_missing_flag  authorities_contacted_missing_flag  \\\n",
       "0                             0                                   0   \n",
       "1                             0                                   0   \n",
       "2                             0                                   0   \n",
       "3                             0                                   0   \n",
       "4                             0                                   0   \n",
       "\n",
       "  policy_csl_min policy_csl_max risk_score  \n",
       "0            250            500          2  \n",
       "1            250            500          0  \n",
       "2            100            300          2  \n",
       "3            250            500          3  \n",
       "4            500           1000          1  \n",
       "\n",
       "[5 rows x 46 columns]"
      ]
     },
     "execution_count": 1,
     "metadata": {},
     "output_type": "execute_result"
    }
   ],
   "source": [
    "# Import essential libraries\n",
    "import pandas as pd\n",
    "import numpy as np\n",
    "import os\n",
    "import re\n",
    "\n",
    "from IPython.display import Markdown\n",
    "\n",
    "# Define project directory path\n",
    "project_dir = os.path.abspath(os.path.join(os.getcwd(), '..'))\n",
    "\n",
    "# Load cleaned dataset from ETL output\n",
    "clean_data_path = os.path.join(project_dir, 'data', 'cleaned', 'cleaned_insurance_claims.csv')\n",
    "df = pd.read_csv(clean_data_path)\n",
    "\n",
    "# Confirm successful load\n",
    "print(\"Loaded cleaned dataset with shape:\", df.shape)\n",
    "df.head()"
   ]
  },
  {
   "cell_type": "markdown",
   "id": "143cdde9",
   "metadata": {},
   "source": [
    "### 1. Create Time Based Features\n",
    "\n",
    "The `incident_date` column contains the date when each insurance claim incident occurred. Temporal patterns can be highly informative for fraud detection, as fraud may vary by season, day of the week, or weekend behavior.\n",
    "\n",
    "This section extracts multiple numeric features from the raw date:\n",
    "\n",
    "- **`incident_year`** — The calendar year of the incident (e.g., 2014)\n",
    "- **`incident_month`** — The calendar month (1–12)\n",
    "- **`incident_dayofweek`** — Day of the week as an integer (0 = Monday, 6 = Sunday)\n",
    "- **`incident_day`** — Day of the month (1–31)\n",
    "- **`incident_is_weekend`** — Binary flag indicating whether the incident occurred on a weekend (Saturday or Sunday)\n",
    "\n",
    "These features will allow the model to capture potential seasonal, weekly, and weekend-related fraud trends.\n",
    "\n",
    "Additionally, the code will validate and clean the date column by coercing invalid entries to `NaT` and removing any rows with missing or invalid dates, ensuring robust downstream feature extraction."
   ]
  },
  {
   "cell_type": "code",
   "execution_count": 2,
   "id": "2f206f75",
   "metadata": {},
   "outputs": [
    {
     "data": {
      "text/markdown": [
       "**Missing or invalid incident_date rows:** 0"
      ],
      "text/plain": [
       "<IPython.core.display.Markdown object>"
      ]
     },
     "metadata": {},
     "output_type": "display_data"
    },
    {
     "name": "stdout",
     "output_type": "stream",
     "text": [
      "Time-based features created: ['incident_year', 'incident_month', 'incident_dayofweek', 'incident_day', 'incident_is_weekend']\n"
     ]
    }
   ],
   "source": [
    "# Check if 'incident_date' exists and convert to datetime\n",
    "if 'incident_date' in df.columns:\n",
    "    df['incident_date'] = pd.to_datetime(df['incident_date'], errors='coerce')\n",
    "\n",
    "    # Count and display number of missing/invalid dates after conversion\n",
    "    num_missing_dates = df['incident_date'].isna().sum()\n",
    "    display(Markdown(f\"**Missing or invalid incident_date rows:** {num_missing_dates}\"))\n",
    "\n",
    "    # Drop rows where date conversion failed (optional, but recommended)\n",
    "    df = df.dropna(subset=['incident_date'])\n",
    "\n",
    "    # Extract date components as numeric features\n",
    "    df['incident_year'] = df['incident_date'].dt.year\n",
    "    df['incident_month'] = df['incident_date'].dt.month\n",
    "    df['incident_dayofweek'] = df['incident_date'].dt.dayofweek\n",
    "    df['incident_day'] = df['incident_date'].dt.day\n",
    "\n",
    "    # Create binary weekend flag (Saturday=5, Sunday=6)\n",
    "    df['incident_is_weekend'] = df['incident_dayofweek'].isin([5, 6]).astype(int)\n",
    "\n",
    "    print(\"Time-based features created:\", [\n",
    "        'incident_year', 'incident_month', 'incident_dayofweek', 'incident_day', 'incident_is_weekend'\n",
    "    ])\n",
    "else:\n",
    "    print(\"Column 'incident_date' not found in dataset.\")"
   ]
  },
  {
   "cell_type": "markdown",
   "id": "cc3ce66e",
   "metadata": {},
   "source": [
    "### 2. Create a Fraud Signal Feature\n",
    "\n",
    "This feature captures interaction between the monetary value of a claim and its risk score.\n",
    "Higher `fraud_weight` values may correlate with suspicious high risk, high value claims."
   ]
  },
  {
   "cell_type": "code",
   "execution_count": 3,
   "id": "dcd9d91f",
   "metadata": {},
   "outputs": [
    {
     "data": {
      "application/vnd.microsoft.datawrangler.viewer.v0+json": {
       "columns": [
        {
         "name": "index",
         "rawType": "int64",
         "type": "integer"
        },
        {
         "name": "total_claim_amount",
         "rawType": "int64",
         "type": "integer"
        },
        {
         "name": "risk_score",
         "rawType": "int64",
         "type": "integer"
        },
        {
         "name": "fraud_weight",
         "rawType": "int64",
         "type": "integer"
        }
       ],
       "ref": "3fde2fb1-d29b-4904-8f7b-5bb62c890a36",
       "rows": [
        [
         "0",
         "71610",
         "2",
         "143220"
        ],
        [
         "1",
         "5070",
         "0",
         "0"
        ],
        [
         "2",
         "34650",
         "2",
         "69300"
        ],
        [
         "3",
         "63400",
         "3",
         "190200"
        ],
        [
         "4",
         "6500",
         "1",
         "6500"
        ]
       ],
       "shape": {
        "columns": 3,
        "rows": 5
       }
      },
      "text/html": [
       "<div>\n",
       "<style scoped>\n",
       "    .dataframe tbody tr th:only-of-type {\n",
       "        vertical-align: middle;\n",
       "    }\n",
       "\n",
       "    .dataframe tbody tr th {\n",
       "        vertical-align: top;\n",
       "    }\n",
       "\n",
       "    .dataframe thead th {\n",
       "        text-align: right;\n",
       "    }\n",
       "</style>\n",
       "<table border=\"1\" class=\"dataframe\">\n",
       "  <thead>\n",
       "    <tr style=\"text-align: right;\">\n",
       "      <th></th>\n",
       "      <th>total_claim_amount</th>\n",
       "      <th>risk_score</th>\n",
       "      <th>fraud_weight</th>\n",
       "    </tr>\n",
       "  </thead>\n",
       "  <tbody>\n",
       "    <tr>\n",
       "      <th>0</th>\n",
       "      <td>71610</td>\n",
       "      <td>2</td>\n",
       "      <td>143220</td>\n",
       "    </tr>\n",
       "    <tr>\n",
       "      <th>1</th>\n",
       "      <td>5070</td>\n",
       "      <td>0</td>\n",
       "      <td>0</td>\n",
       "    </tr>\n",
       "    <tr>\n",
       "      <th>2</th>\n",
       "      <td>34650</td>\n",
       "      <td>2</td>\n",
       "      <td>69300</td>\n",
       "    </tr>\n",
       "    <tr>\n",
       "      <th>3</th>\n",
       "      <td>63400</td>\n",
       "      <td>3</td>\n",
       "      <td>190200</td>\n",
       "    </tr>\n",
       "    <tr>\n",
       "      <th>4</th>\n",
       "      <td>6500</td>\n",
       "      <td>1</td>\n",
       "      <td>6500</td>\n",
       "    </tr>\n",
       "  </tbody>\n",
       "</table>\n",
       "</div>"
      ],
      "text/plain": [
       "   total_claim_amount  risk_score  fraud_weight\n",
       "0               71610           2        143220\n",
       "1                5070           0             0\n",
       "2               34650           2         69300\n",
       "3               63400           3        190200\n",
       "4                6500           1          6500"
      ]
     },
     "execution_count": 3,
     "metadata": {},
     "output_type": "execute_result"
    }
   ],
   "source": [
    "# Create a new feature that combines claim amount with risk\n",
    "df['fraud_weight'] = df['total_claim_amount'] * df['risk_score']\n",
    "\n",
    "# Preview to verify\n",
    "df[['total_claim_amount', 'risk_score', 'fraud_weight']].head()"
   ]
  },
  {
   "cell_type": "markdown",
   "id": "d66bf492",
   "metadata": {},
   "source": [
    "### 3. One-Hot Encode Key Categorical Features\n",
    "\n",
    "To prepare the dataset for machine learning models, I applied one-hot encoding to important categorical variables such as `incident_type`, `collision_type`, and `police_report_available`. This process converts each category into its own binary (0/1) column, enabling models to interpret categorical data effectively.\n",
    "\n",
    "I used `drop_first=False` to retain all categories since some models and analyses benefit from having all categories explicitly represented, and to maintain interpretability in dashboards.\n",
    "\n",
    "The resulting columns include flags like `incident_type_multi_vehicle_collision`, `collision_type_front_collision`, and `police_report_available_yes`.\n",
    "\n",
    "These binary features help capture category specific effects and improve model performance and analysis granularity."
   ]
  },
  {
   "cell_type": "code",
   "execution_count": 4,
   "id": "10b98a37",
   "metadata": {},
   "outputs": [
    {
     "name": "stdout",
     "output_type": "stream",
     "text": [
      "One-hot encoding complete.\n",
      "['incident_type_MULTI-VEHICLE COLLISION', 'incident_type_PARKED CAR', 'incident_type_SINGLE VEHICLE COLLISION', 'incident_type_VEHICLE THEFT']\n",
      "['collision_type_missing_flag', 'collision_type_FRONT COLLISION', 'collision_type_REAR COLLISION', 'collision_type_SIDE COLLISION']\n",
      "['police_report_available_missing_flag', 'police_report_available_NO', 'police_report_available_YES']\n"
     ]
    }
   ],
   "source": [
    "# One-hot encode key categorical variables\n",
    "df = pd.get_dummies(df, columns=[\n",
    "    'incident_type',\n",
    "    'collision_type',\n",
    "    'police_report_available'\n",
    "], prefix_sep='_', drop_first=False)\n",
    "\n",
    "# Print confirmation\n",
    "print(\"One-hot encoding complete.\")\n",
    "print(df.filter(like='incident_type_').columns.tolist())\n",
    "print(df.filter(like='collision_type_').columns.tolist())\n",
    "print(df.filter(like='police_report_available_').columns.tolist())"
   ]
  },
  {
   "cell_type": "markdown",
   "id": "8ef9c4ab",
   "metadata": {},
   "source": [
    "### 4. Final Cleanup of Dataset\n",
    "\n",
    "This section finalizes the dataset by:\n",
    "- Dropping the original `incident_date` column after extracting all relevant time features.\n",
    "- Standardizing column names to lowercase with underscores to ensure consistency and ease of use downstream."
   ]
  },
  {
   "cell_type": "code",
   "execution_count": 5,
   "id": "347e926f",
   "metadata": {},
   "outputs": [
    {
     "name": "stdout",
     "output_type": "stream",
     "text": [
      "'incident_date' column dropped before further processing.\n",
      "Column names cleaned and standardized.\n",
      "['months_as_customer', 'age', 'policy_number', 'policy_bind_date', 'policy_state', 'policy_csl', 'policy_deductable', 'policy_annual_premium', 'umbrella_limit', 'insured_zip', 'insured_sex', 'insured_education_level', 'insured_occupation', 'insured_hobbies', 'insured_relationship', 'capital_gains', 'capital_loss', 'incident_severity', 'authorities_contacted', 'incident_state', 'incident_city', 'incident_location', 'incident_hour_of_the_day', 'number_of_vehicles_involved', 'property_damage', 'bodily_injuries', 'witnesses', 'total_claim_amount', 'injury_claim', 'property_claim', 'vehicle_claim', 'auto_make', 'auto_model', 'auto_year', 'fraud_reported', 'collision_type_missing_flag', 'police_report_available_missing_flag', 'property_damage_missing_flag', 'authorities_contacted_missing_flag', 'policy_csl_min', 'policy_csl_max', 'risk_score', 'incident_year', 'incident_month', 'incident_dayofweek', 'incident_day', 'incident_is_weekend', 'fraud_weight', 'incident_type_multi_vehicle_collision', 'incident_type_parked_car', 'incident_type_single_vehicle_collision', 'incident_type_vehicle_theft', 'collision_type_front_collision', 'collision_type_rear_collision', 'collision_type_side_collision', 'police_report_available_no', 'police_report_available_yes']\n"
     ]
    }
   ],
   "source": [
    "# Drop original 'incident_date' column since all date features have been extracted\n",
    "df = df.drop(columns=['incident_date'], errors='ignore')\n",
    "print(\"'incident_date' column dropped before further processing.\")\n",
    "\n",
    "import re  # Ensure this is imported before usage\n",
    "\n",
    "# Function to clean column names: lowercase, replace spaces/special chars with underscore\n",
    "def clean_column_names(col_name):\n",
    "    col_name = col_name.lower()\n",
    "    col_name = re.sub(r'[^a-z0-9]+', '_', col_name)\n",
    "    col_name = col_name.strip('_')\n",
    "    return col_name\n",
    "\n",
    "# Apply renaming to all columns\n",
    "df.columns = [clean_column_names(col) for col in df.columns]\n",
    "print(\"Column names cleaned and standardized.\")\n",
    "print(df.columns.tolist())"
   ]
  },
  {
   "cell_type": "markdown",
   "id": "a502709b",
   "metadata": {},
   "source": [
    "### 5. Save Engineered Dataset\n",
    "\n",
    "Save the final dataset to the `data/features/` folder. This will be used in the next step: `model_training.ipynb`."
   ]
  },
  {
   "cell_type": "code",
   "execution_count": 6,
   "id": "6454fbc2",
   "metadata": {},
   "outputs": [
    {
     "name": "stdout",
     "output_type": "stream",
     "text": [
      "Feature dataset saved to: c:\\Users\\Cloud\\OneDrive\\Desktop\\Fraud_Analytics_Project\\data\\features\\engineered_insurance_claims.csv\n"
     ]
    }
   ],
   "source": [
    "# Define output path\n",
    "engineered_dir = os.path.join(project_dir, \"data\", \"features\")\n",
    "os.makedirs(engineered_dir, exist_ok=True)  # Create directory if it doesn't exist\n",
    "\n",
    "# Save to CSV\n",
    "feature_file = os.path.join(engineered_dir, \"engineered_insurance_claims.csv\")\n",
    "df.to_csv(feature_file, index=False)\n",
    "print(f\"Feature dataset saved to: {feature_file}\")"
   ]
  },
  {
   "cell_type": "markdown",
   "id": "c0deacd0",
   "metadata": {},
   "source": [
    "# Conclusion and Next Steps\n",
    "\n",
    "In this notebook, I successfully engineered new features to enhance the model’s ability to detect fraudulent insurance claims. Key activities included:\n",
    "\n",
    "- Extracting time based features from the `incident_date` column\n",
    "- Creating a custom fraud risk signal (`fraud_weight`) based on domain logic\n",
    "- Applying one-hot encoding to critical categorical variables such as `incident_type`, `collision_type`, and `police_report_available`\n",
    "- Saving the fully transformed dataset in a clean, model-ready format\n",
    "\n",
    "These engineered features were designed to improve the model’s ability to capture underlying fraud patterns particularly in the presence of temporal trends, missing data flags, and categorical context.\n",
    "\n",
    "The resulting dataset will now be used in the next stage: `model_training.ipynb`, where I will build, evaluate, and save predictive models for fraud detection. This ensures a seamless transition from data understanding to actionable machine learning."
   ]
  }
 ],
 "metadata": {
  "kernelspec": {
   "display_name": "dev",
   "language": "python",
   "name": "python3"
  },
  "language_info": {
   "codemirror_mode": {
    "name": "ipython",
    "version": 3
   },
   "file_extension": ".py",
   "mimetype": "text/x-python",
   "name": "python",
   "nbconvert_exporter": "python",
   "pygments_lexer": "ipython3",
   "version": "3.10.14"
  }
 },
 "nbformat": 4,
 "nbformat_minor": 5
}
